{
  "nbformat": 4,
  "nbformat_minor": 0,
  "metadata": {
    "colab": {
      "name": "Lab5 (LSM& GDA).ipynb",
      "provenance": [],
      "authorship_tag": "ABX9TyNPWRnq+otS+rzgeT3gWDww",
      "include_colab_link": true
    },
    "kernelspec": {
      "name": "python3",
      "display_name": "Python 3"
    },
    "language_info": {
      "name": "python"
    }
  },
  "cells": [
    {
      "cell_type": "markdown",
      "metadata": {
        "id": "view-in-github",
        "colab_type": "text"
      },
      "source": [
        "<a href=\"https://colab.research.google.com/github/konarksharma2001/pthon/blob/main/Lab5_(LSM%26_GDA).ipynb\" target=\"_parent\"><img src=\"https://colab.research.google.com/assets/colab-badge.svg\" alt=\"Open In Colab\"/></a>"
      ]
    },
    {
      "cell_type": "markdown",
      "metadata": {
        "id": "OpmyKhAOtBz7"
      },
      "source": [
        "#Least Square Error Method"
      ]
    },
    {
      "cell_type": "code",
      "metadata": {
        "colab": {
          "base_uri": "https://localhost:8080/",
          "height": 202
        },
        "id": "AcxgF2vAuPzr",
        "outputId": "891856a7-0f6d-4235-a70f-9dcf4d4264d7"
      },
      "source": [
        "import pandas as pd\n",
        "from sklearn.datasets import load_boston\n",
        "boston = load_boston()\n",
        "df = pd.DataFrame(data=boston.data, columns = ['CRIM', 'ZN', 'INDUS', 'CHAS', 'NOX', 'RM', 'AGE', 'DIS', 'RAD',\n",
        "        'TAX', 'PTRATIO', 'B', 'LSTAT'])\n",
        "df['target'] = boston.target\n",
        "df.head(5)"
      ],
      "execution_count": 1,
      "outputs": [
        {
          "output_type": "execute_result",
          "data": {
            "text/html": [
              "<div>\n",
              "<style scoped>\n",
              "    .dataframe tbody tr th:only-of-type {\n",
              "        vertical-align: middle;\n",
              "    }\n",
              "\n",
              "    .dataframe tbody tr th {\n",
              "        vertical-align: top;\n",
              "    }\n",
              "\n",
              "    .dataframe thead th {\n",
              "        text-align: right;\n",
              "    }\n",
              "</style>\n",
              "<table border=\"1\" class=\"dataframe\">\n",
              "  <thead>\n",
              "    <tr style=\"text-align: right;\">\n",
              "      <th></th>\n",
              "      <th>CRIM</th>\n",
              "      <th>ZN</th>\n",
              "      <th>INDUS</th>\n",
              "      <th>CHAS</th>\n",
              "      <th>NOX</th>\n",
              "      <th>RM</th>\n",
              "      <th>AGE</th>\n",
              "      <th>DIS</th>\n",
              "      <th>RAD</th>\n",
              "      <th>TAX</th>\n",
              "      <th>PTRATIO</th>\n",
              "      <th>B</th>\n",
              "      <th>LSTAT</th>\n",
              "      <th>target</th>\n",
              "    </tr>\n",
              "  </thead>\n",
              "  <tbody>\n",
              "    <tr>\n",
              "      <th>0</th>\n",
              "      <td>0.00632</td>\n",
              "      <td>18.0</td>\n",
              "      <td>2.31</td>\n",
              "      <td>0.0</td>\n",
              "      <td>0.538</td>\n",
              "      <td>6.575</td>\n",
              "      <td>65.2</td>\n",
              "      <td>4.0900</td>\n",
              "      <td>1.0</td>\n",
              "      <td>296.0</td>\n",
              "      <td>15.3</td>\n",
              "      <td>396.90</td>\n",
              "      <td>4.98</td>\n",
              "      <td>24.0</td>\n",
              "    </tr>\n",
              "    <tr>\n",
              "      <th>1</th>\n",
              "      <td>0.02731</td>\n",
              "      <td>0.0</td>\n",
              "      <td>7.07</td>\n",
              "      <td>0.0</td>\n",
              "      <td>0.469</td>\n",
              "      <td>6.421</td>\n",
              "      <td>78.9</td>\n",
              "      <td>4.9671</td>\n",
              "      <td>2.0</td>\n",
              "      <td>242.0</td>\n",
              "      <td>17.8</td>\n",
              "      <td>396.90</td>\n",
              "      <td>9.14</td>\n",
              "      <td>21.6</td>\n",
              "    </tr>\n",
              "    <tr>\n",
              "      <th>2</th>\n",
              "      <td>0.02729</td>\n",
              "      <td>0.0</td>\n",
              "      <td>7.07</td>\n",
              "      <td>0.0</td>\n",
              "      <td>0.469</td>\n",
              "      <td>7.185</td>\n",
              "      <td>61.1</td>\n",
              "      <td>4.9671</td>\n",
              "      <td>2.0</td>\n",
              "      <td>242.0</td>\n",
              "      <td>17.8</td>\n",
              "      <td>392.83</td>\n",
              "      <td>4.03</td>\n",
              "      <td>34.7</td>\n",
              "    </tr>\n",
              "    <tr>\n",
              "      <th>3</th>\n",
              "      <td>0.03237</td>\n",
              "      <td>0.0</td>\n",
              "      <td>2.18</td>\n",
              "      <td>0.0</td>\n",
              "      <td>0.458</td>\n",
              "      <td>6.998</td>\n",
              "      <td>45.8</td>\n",
              "      <td>6.0622</td>\n",
              "      <td>3.0</td>\n",
              "      <td>222.0</td>\n",
              "      <td>18.7</td>\n",
              "      <td>394.63</td>\n",
              "      <td>2.94</td>\n",
              "      <td>33.4</td>\n",
              "    </tr>\n",
              "    <tr>\n",
              "      <th>4</th>\n",
              "      <td>0.06905</td>\n",
              "      <td>0.0</td>\n",
              "      <td>2.18</td>\n",
              "      <td>0.0</td>\n",
              "      <td>0.458</td>\n",
              "      <td>7.147</td>\n",
              "      <td>54.2</td>\n",
              "      <td>6.0622</td>\n",
              "      <td>3.0</td>\n",
              "      <td>222.0</td>\n",
              "      <td>18.7</td>\n",
              "      <td>396.90</td>\n",
              "      <td>5.33</td>\n",
              "      <td>36.2</td>\n",
              "    </tr>\n",
              "  </tbody>\n",
              "</table>\n",
              "</div>"
            ],
            "text/plain": [
              "      CRIM    ZN  INDUS  CHAS    NOX  ...    TAX  PTRATIO       B  LSTAT  target\n",
              "0  0.00632  18.0   2.31   0.0  0.538  ...  296.0     15.3  396.90   4.98    24.0\n",
              "1  0.02731   0.0   7.07   0.0  0.469  ...  242.0     17.8  396.90   9.14    21.6\n",
              "2  0.02729   0.0   7.07   0.0  0.469  ...  242.0     17.8  392.83   4.03    34.7\n",
              "3  0.03237   0.0   2.18   0.0  0.458  ...  222.0     18.7  394.63   2.94    33.4\n",
              "4  0.06905   0.0   2.18   0.0  0.458  ...  222.0     18.7  396.90   5.33    36.2\n",
              "\n",
              "[5 rows x 14 columns]"
            ]
          },
          "metadata": {},
          "execution_count": 1
        }
      ]
    },
    {
      "cell_type": "code",
      "metadata": {
        "colab": {
          "base_uri": "https://localhost:8080/",
          "height": 695
        },
        "id": "ss_CnquUuQgW",
        "outputId": "5068e497-50a2-4081-9815-981cc87b46ad"
      },
      "source": [
        "import missingno as ms\n",
        "ms.bar(df)"
      ],
      "execution_count": 2,
      "outputs": [
        {
          "output_type": "execute_result",
          "data": {
            "text/plain": [
              "<matplotlib.axes._subplots.AxesSubplot at 0x7fcaa2fde810>"
            ]
          },
          "metadata": {},
          "execution_count": 2
        },
        {
          "output_type": "display_data",
          "data": {
            "image/png": "[encoded data removed]",
            "text/plain": [
              "<Figure size 1800x720 with 3 Axes>"
            ]
          },
          "metadata": {
            "needs_background": "light"
          }
        }
      ]
    },
    {
      "cell_type": "code",
      "metadata": {
        "colab": {
          "base_uri": "https://localhost:8080/",
          "height": 612
        },
        "id": "GoCO1FLsuQin",
        "outputId": "b5910066-88c9-46b0-ed3c-f89935628656"
      },
      "source": [
        "import seaborn as sns\n",
        "import matplotlib.pyplot as plt\n",
        "fig, ax = plt.subplots(figsize=(15,10))\n",
        "sns.heatmap(df.iloc[:,0:13].corr(),annot=True, linewidths=.5, ax=ax)\n"
      ],
      "execution_count": 3,
      "outputs": [
        {
          "output_type": "execute_result",
          "data": {
            "text/plain": [
              "<matplotlib.axes._subplots.AxesSubplot at 0x7fca99db4990>"
            ]
          },
          "metadata": {},
          "execution_count": 3
        },
        {
          "output_type": "display_data",
          "data": {
            "image/png": "[encoded data removed]",
            "text/plain": [
              "<Figure size 1080x720 with 2 Axes>"
            ]
          },
          "metadata": {
            "needs_background": "light"
          }
        }
      ]
    },
    {
      "cell_type": "code",
      "metadata": {
        "id": "-powWTE6vMzL"
      },
      "source": [
        "import numpy as np\n",
        "X=df.iloc[:,0:13]\n",
        "Y=df.iloc[:,13]\n",
        "Y=np.array(Y)\n",
        "Y=Y.reshape(-1,1)"
      ],
      "execution_count": 4,
      "outputs": []
    },
    {
      "cell_type": "code",
      "metadata": {
        "id": "fa4_BOKPvM1t"
      },
      "source": [
        "from sklearn.preprocessing import StandardScaler\n",
        "scaler=StandardScaler()\n",
        "X_scaled = scaler.fit_transform(X)\n",
        "X_scaled = np.insert(X_scaled, 0, values=1, axis=1)"
      ],
      "execution_count": 5,
      "outputs": []
    },
    {
      "cell_type": "code",
      "metadata": {
        "colab": {
          "base_uri": "https://localhost:8080/"
        },
        "id": "I3vYHlfkvM39",
        "outputId": "9c750154-ad5f-4ae6-c063-97061e479c5e"
      },
      "source": [
        "X_scaled"
      ],
      "execution_count": 6,
      "outputs": [
        {
          "output_type": "execute_result",
          "data": {
            "text/plain": [
              "array([[ 1.        , -0.41978194,  0.28482986, ..., -1.45900038,\n",
              "         0.44105193, -1.0755623 ],\n",
              "       [ 1.        , -0.41733926, -0.48772236, ..., -0.30309415,\n",
              "         0.44105193, -0.49243937],\n",
              "       [ 1.        , -0.41734159, -0.48772236, ..., -0.30309415,\n",
              "         0.39642699, -1.2087274 ],\n",
              "       ...,\n",
              "       [ 1.        , -0.41344658, -0.48772236, ...,  1.17646583,\n",
              "         0.44105193, -0.98304761],\n",
              "       [ 1.        , -0.40776407, -0.48772236, ...,  1.17646583,\n",
              "         0.4032249 , -0.86530163],\n",
              "       [ 1.        , -0.41500016, -0.48772236, ...,  1.17646583,\n",
              "         0.44105193, -0.66905833]])"
            ]
          },
          "metadata": {},
          "execution_count": 6
        }
      ]
    },
    {
      "cell_type": "code",
      "metadata": {
        "id": "9KNExuJAvM6c"
      },
      "source": [
        "from sklearn.model_selection import train_test_split\n",
        "X_train, X_test, y_train, y_test = train_test_split(X_scaled, Y, test_size=0.3, random_state=42)"
      ],
      "execution_count": 7,
      "outputs": []
    },
    {
      "cell_type": "code",
      "metadata": {
        "colab": {
          "base_uri": "https://localhost:8080/"
        },
        "id": "xEsVOjymvM80",
        "outputId": "822b7dc7-1fc7-489c-d4d4-d5cbc6672419"
      },
      "source": [
        "print(X_train.shape)\n",
        "print(X_test.shape)\n",
        "print(y_train.shape)\n",
        "print(y_test.shape)"
      ],
      "execution_count": 8,
      "outputs": [
        {
          "output_type": "stream",
          "name": "stdout",
          "text": [
            "(354, 14)\n",
            "(152, 14)\n",
            "(354, 1)\n",
            "(152, 1)\n"
          ]
        }
      ]
    },
    {
      "cell_type": "code",
      "metadata": {
        "colab": {
          "base_uri": "https://localhost:8080/"
        },
        "id": "lY_fwOl3vM_H",
        "outputId": "b6b7cbf0-4246-4c82-d180-7427e33d5d76"
      },
      "source": [
        "A=X_train.T.dot(X_train)\n",
        "B=np.linalg.inv(A)\n",
        "C=B.dot(X_train.T)\n",
        "beta=C.dot(y_train)\n",
        "print(beta)"
      ],
      "execution_count": 9,
      "outputs": [
        {
          "output_type": "stream",
          "name": "stdout",
          "text": [
            "[[22.50945471]\n",
            " [-1.14691411]\n",
            " [ 0.83432605]\n",
            " [ 0.33940694]\n",
            " [ 0.79163612]\n",
            " [-1.784727  ]\n",
            " [ 2.84783949]\n",
            " [-0.30429306]\n",
            " [-2.91562521]\n",
            " [ 2.11140045]\n",
            " [-1.46519951]\n",
            " [-1.9696347 ]\n",
            " [ 1.07567771]\n",
            " [-3.90310727]]\n"
          ]
        }
      ]
    },
    {
      "cell_type": "code",
      "metadata": {
        "colab": {
          "base_uri": "https://localhost:8080/"
        },
        "id": "kNVAAcFRxGSd",
        "outputId": "46d9154d-1319-4be6-ff9c-47119148e85c"
      },
      "source": [
        "y_predict=X_test.dot(beta)\n",
        "#print(y_predict)\n",
        "print(len(y_predict))"
      ],
      "execution_count": 11,
      "outputs": [
        {
          "output_type": "stream",
          "name": "stdout",
          "text": [
            "152\n"
          ]
        }
      ]
    },
    {
      "cell_type": "code",
      "metadata": {
        "colab": {
          "base_uri": "https://localhost:8080/"
        },
        "id": "Nt38mea4xGUt",
        "outputId": "cd78c96f-12cb-42f0-e70b-cd4428324197"
      },
      "source": [
        "error=y_test-y_predict\n",
        "square_error=np.power(error,2)\n",
        "sum_square_error=np.sum(square_error)\n",
        "mean_square_error=sum_square_error/len(y_predict)\n",
        "print(mean_square_error)"
      ],
      "execution_count": 12,
      "outputs": [
        {
          "output_type": "stream",
          "name": "stdout",
          "text": [
            "21.51744423117728\n"
          ]
        }
      ]
    },
    {
      "cell_type": "code",
      "metadata": {
        "colab": {
          "base_uri": "https://localhost:8080/"
        },
        "id": "YRWQjoVSxGZc",
        "outputId": "f8da1ab1-cf6f-4f93-fc94-75370badac2c"
      },
      "source": [
        "rms_error=np.sqrt(mean_square_error)\n",
        "print(rms_error)"
      ],
      "execution_count": 13,
      "outputs": [
        {
          "output_type": "stream",
          "name": "stdout",
          "text": [
            "4.6386899261728285\n"
          ]
        }
      ]
    },
    {
      "cell_type": "code",
      "metadata": {
        "colab": {
          "base_uri": "https://localhost:8080/"
        },
        "id": "cz0V0T1hxGb9",
        "outputId": "ba729dd1-0565-4473-db1a-458134ec1da7"
      },
      "source": [
        "y_mean=np.mean(y_test)\n",
        "total_variance=np.sum((y_test-y_mean)**2)\n",
        "r_square = 1-sum_square_error/total_variance\n",
        "print(r_square)"
      ],
      "execution_count": 14,
      "outputs": [
        {
          "output_type": "stream",
          "name": "stdout",
          "text": [
            "0.7112260057484923\n"
          ]
        }
      ]
    },
    {
      "cell_type": "markdown",
      "metadata": {
        "id": "oBK75wBW2k0W"
      },
      "source": [
        "#Gradient Descent Optimization"
      ]
    },
    {
      "cell_type": "code",
      "metadata": {
        "id": "yQnuTbnc2tXy"
      },
      "source": [
        "import pandas as pd\n",
        "import numpy as np"
      ],
      "execution_count": 15,
      "outputs": []
    },
    {
      "cell_type": "code",
      "metadata": {
        "colab": {
          "base_uri": "https://localhost:8080/",
          "height": 202
        },
        "id": "xTo3nAWc3zyn",
        "outputId": "2063a21a-d396-4d13-d77b-724bf4b43234"
      },
      "source": [
        "df = pd.read_csv(\"USA_Housing.csv\")\n",
        "df.head(5)\n"
      ],
      "execution_count": 16,
      "outputs": [
        {
          "output_type": "execute_result",
          "data": {
            "text/html": [
              "<div>\n",
              "<style scoped>\n",
              "    .dataframe tbody tr th:only-of-type {\n",
              "        vertical-align: middle;\n",
              "    }\n",
              "\n",
              "    .dataframe tbody tr th {\n",
              "        vertical-align: top;\n",
              "    }\n",
              "\n",
              "    .dataframe thead th {\n",
              "        text-align: right;\n",
              "    }\n",
              "</style>\n",
              "<table border=\"1\" class=\"dataframe\">\n",
              "  <thead>\n",
              "    <tr style=\"text-align: right;\">\n",
              "      <th></th>\n",
              "      <th>Avg. Area Income</th>\n",
              "      <th>Avg. Area House Age</th>\n",
              "      <th>Avg. Area Number of Rooms</th>\n",
              "      <th>Avg. Area Number of Bedrooms</th>\n",
              "      <th>Area Population</th>\n",
              "      <th>Price</th>\n",
              "      <th>Address</th>\n",
              "    </tr>\n",
              "  </thead>\n",
              "  <tbody>\n",
              "    <tr>\n",
              "      <th>0</th>\n",
              "      <td>79545.458574</td>\n",
              "      <td>5.682861</td>\n",
              "      <td>7.009188</td>\n",
              "      <td>4.09</td>\n",
              "      <td>23086.800503</td>\n",
              "      <td>1.059034e+06</td>\n",
              "      <td>208 Michael Ferry Apt. 674\\nLaurabury, NE 3701...</td>\n",
              "    </tr>\n",
              "    <tr>\n",
              "      <th>1</th>\n",
              "      <td>79248.642455</td>\n",
              "      <td>6.002900</td>\n",
              "      <td>6.730821</td>\n",
              "      <td>3.09</td>\n",
              "      <td>40173.072174</td>\n",
              "      <td>1.505891e+06</td>\n",
              "      <td>188 Johnson Views Suite 079\\nLake Kathleen, CA...</td>\n",
              "    </tr>\n",
              "    <tr>\n",
              "      <th>2</th>\n",
              "      <td>61287.067179</td>\n",
              "      <td>5.865890</td>\n",
              "      <td>8.512727</td>\n",
              "      <td>5.13</td>\n",
              "      <td>36882.159400</td>\n",
              "      <td>1.058988e+06</td>\n",
              "      <td>9127 Elizabeth Stravenue\\nDanieltown, WI 06482...</td>\n",
              "    </tr>\n",
              "    <tr>\n",
              "      <th>3</th>\n",
              "      <td>63345.240046</td>\n",
              "      <td>7.188236</td>\n",
              "      <td>5.586729</td>\n",
              "      <td>3.26</td>\n",
              "      <td>34310.242831</td>\n",
              "      <td>1.260617e+06</td>\n",
              "      <td>USS Barnett\\nFPO AP 44820</td>\n",
              "    </tr>\n",
              "    <tr>\n",
              "      <th>4</th>\n",
              "      <td>59982.197226</td>\n",
              "      <td>5.040555</td>\n",
              "      <td>7.839388</td>\n",
              "      <td>4.23</td>\n",
              "      <td>26354.109472</td>\n",
              "      <td>6.309435e+05</td>\n",
              "      <td>USNS Raymond\\nFPO AE 09386</td>\n",
              "    </tr>\n",
              "  </tbody>\n",
              "</table>\n",
              "</div>"
            ],
            "text/plain": [
              "   Avg. Area Income  ...                                            Address\n",
              "0      79545.458574  ...  208 Michael Ferry Apt. 674\\nLaurabury, NE 3701...\n",
              "1      79248.642455  ...  188 Johnson Views Suite 079\\nLake Kathleen, CA...\n",
              "2      61287.067179  ...  9127 Elizabeth Stravenue\\nDanieltown, WI 06482...\n",
              "3      63345.240046  ...                          USS Barnett\\nFPO AP 44820\n",
              "4      59982.197226  ...                         USNS Raymond\\nFPO AE 09386\n",
              "\n",
              "[5 rows x 7 columns]"
            ]
          },
          "metadata": {},
          "execution_count": 16
        }
      ]
    },
    {
      "cell_type": "code",
      "metadata": {
        "colab": {
          "base_uri": "https://localhost:8080/",
          "height": 202
        },
        "id": "IF0vgFzn30g-",
        "outputId": "15db0409-bac5-42b2-d7ee-56dc2874ea30"
      },
      "source": [
        "X=df.iloc[:,0:5]\n",
        "X.head()"
      ],
      "execution_count": 17,
      "outputs": [
        {
          "output_type": "execute_result",
          "data": {
            "text/html": [
              "<div>\n",
              "<style scoped>\n",
              "    .dataframe tbody tr th:only-of-type {\n",
              "        vertical-align: middle;\n",
              "    }\n",
              "\n",
              "    .dataframe tbody tr th {\n",
              "        vertical-align: top;\n",
              "    }\n",
              "\n",
              "    .dataframe thead th {\n",
              "        text-align: right;\n",
              "    }\n",
              "</style>\n",
              "<table border=\"1\" class=\"dataframe\">\n",
              "  <thead>\n",
              "    <tr style=\"text-align: right;\">\n",
              "      <th></th>\n",
              "      <th>Avg. Area Income</th>\n",
              "      <th>Avg. Area House Age</th>\n",
              "      <th>Avg. Area Number of Rooms</th>\n",
              "      <th>Avg. Area Number of Bedrooms</th>\n",
              "      <th>Area Population</th>\n",
              "    </tr>\n",
              "  </thead>\n",
              "  <tbody>\n",
              "    <tr>\n",
              "      <th>0</th>\n",
              "      <td>79545.458574</td>\n",
              "      <td>5.682861</td>\n",
              "      <td>7.009188</td>\n",
              "      <td>4.09</td>\n",
              "      <td>23086.800503</td>\n",
              "    </tr>\n",
              "    <tr>\n",
              "      <th>1</th>\n",
              "      <td>79248.642455</td>\n",
              "      <td>6.002900</td>\n",
              "      <td>6.730821</td>\n",
              "      <td>3.09</td>\n",
              "      <td>40173.072174</td>\n",
              "    </tr>\n",
              "    <tr>\n",
              "      <th>2</th>\n",
              "      <td>61287.067179</td>\n",
              "      <td>5.865890</td>\n",
              "      <td>8.512727</td>\n",
              "      <td>5.13</td>\n",
              "      <td>36882.159400</td>\n",
              "    </tr>\n",
              "    <tr>\n",
              "      <th>3</th>\n",
              "      <td>63345.240046</td>\n",
              "      <td>7.188236</td>\n",
              "      <td>5.586729</td>\n",
              "      <td>3.26</td>\n",
              "      <td>34310.242831</td>\n",
              "    </tr>\n",
              "    <tr>\n",
              "      <th>4</th>\n",
              "      <td>59982.197226</td>\n",
              "      <td>5.040555</td>\n",
              "      <td>7.839388</td>\n",
              "      <td>4.23</td>\n",
              "      <td>26354.109472</td>\n",
              "    </tr>\n",
              "  </tbody>\n",
              "</table>\n",
              "</div>"
            ],
            "text/plain": [
              "   Avg. Area Income  ...  Area Population\n",
              "0      79545.458574  ...     23086.800503\n",
              "1      79248.642455  ...     40173.072174\n",
              "2      61287.067179  ...     36882.159400\n",
              "3      63345.240046  ...     34310.242831\n",
              "4      59982.197226  ...     26354.109472\n",
              "\n",
              "[5 rows x 5 columns]"
            ]
          },
          "metadata": {},
          "execution_count": 17
        }
      ]
    },
    {
      "cell_type": "code",
      "metadata": {
        "colab": {
          "base_uri": "https://localhost:8080/"
        },
        "id": "10z0L0eG30jf",
        "outputId": "b6334652-5f56-490e-fa0b-2f54ab14ac6d"
      },
      "source": [
        "y = df.iloc[:,5]\n",
        "y = np.array(y)\n",
        "y = y.reshape(-1,1)\n",
        "y"
      ],
      "execution_count": 18,
      "outputs": [
        {
          "output_type": "execute_result",
          "data": {
            "text/plain": [
              "array([[1059033.55787012],\n",
              "       [1505890.91484695],\n",
              "       [1058987.98787608],\n",
              "       ...,\n",
              "       [1030729.58315229],\n",
              "       [1198656.87240769],\n",
              "       [1298950.48026696]])"
            ]
          },
          "metadata": {},
          "execution_count": 18
        }
      ]
    },
    {
      "cell_type": "markdown",
      "metadata": {
        "id": "-jxQsM7j5J_c"
      },
      "source": [
        "####Standard Normalization\n"
      ]
    },
    {
      "cell_type": "code",
      "metadata": {
        "id": "8XYf7Jc030lx"
      },
      "source": [
        "from sklearn.preprocessing import StandardScaler\n",
        "scaler=StandardScaler()\n",
        "X_scaled=scaler.fit_transform(X)\n",
        "X_scaled= np.insert(X_scaled, 0, values=1, axis=1)"
      ],
      "execution_count": 19,
      "outputs": []
    },
    {
      "cell_type": "code",
      "metadata": {
        "colab": {
          "base_uri": "https://localhost:8080/"
        },
        "id": "E1-iaDs54nUD",
        "outputId": "35d84be5-daef-4f5f-9515-6c4c74be5a29"
      },
      "source": [
        "X_scaled"
      ],
      "execution_count": 20,
      "outputs": [
        {
          "output_type": "execute_result",
          "data": {
            "text/plain": [
              "array([[ 1.        ,  1.02865969, -0.29692705,  0.02127433,  0.08806222,\n",
              "        -1.31759867],\n",
              "       [ 1.        ,  1.00080775,  0.02590164, -0.25550611, -0.72230146,\n",
              "         0.40399945],\n",
              "       [ 1.        , -0.68462916, -0.11230283,  1.5162435 ,  0.93084045,\n",
              "         0.07240989],\n",
              "       ...,\n",
              "       [ 1.        , -0.48723454,  1.28447022, -2.17026949, -1.50025059,\n",
              "        -0.29193658],\n",
              "       [ 1.        , -0.05459152, -0.44669439,  0.14154061,  1.18205319,\n",
              "         0.65111608],\n",
              "       [ 1.        , -0.28831272,  0.01521477, -0.19434166,  0.07185495,\n",
              "         1.04162464]])"
            ]
          },
          "metadata": {},
          "execution_count": 20
        }
      ]
    },
    {
      "cell_type": "markdown",
      "metadata": {
        "id": "BduhVeqm5brL"
      },
      "source": [
        "###Train Test Split"
      ]
    },
    {
      "cell_type": "code",
      "metadata": {
        "id": "5rWeAvcE4nWh"
      },
      "source": [
        "from sklearn.model_selection import train_test_split\n",
        "X_train, X_test, y_train, y_test = train_test_split(X_scaled, y, test_size=0.3, random_state=42)"
      ],
      "execution_count": 21,
      "outputs": []
    },
    {
      "cell_type": "markdown",
      "metadata": {
        "id": "Jv9wcY3H5i37"
      },
      "source": [
        "##Calculating Beta Vector"
      ]
    },
    {
      "cell_type": "code",
      "metadata": {
        "id": "AtTl_Edg4nYj"
      },
      "source": [
        "beta=np.zeros(6)\n",
        "number_of_iterations=1000\n",
        "learning_rate=0.01\n",
        "n = 5"
      ],
      "execution_count": 22,
      "outputs": []
    },
    {
      "cell_type": "code",
      "metadata": {
        "colab": {
          "base_uri": "https://localhost:8080/"
        },
        "id": "Q11tDZFx4naW",
        "outputId": "a7ca024a-664d-4598-9c5e-252c6cff0255"
      },
      "source": [
        "for i in range(number_of_iterations):\n",
        "  x0_gradient=0\n",
        "  x1_gradient=0\n",
        "  x2_gradient=0\n",
        "  x3_gradient=0\n",
        "  x4_gradient=0\n",
        "  x5_gradient=0\n",
        "  \n",
        "for j in range(len(X_train)):\n",
        "  a=X_train[j,0]\n",
        "  b=X_train[j,1]\n",
        "  c=X_train[j,2]\n",
        "  d=X_train[j,3]\n",
        "  e=X_train[j,4]\n",
        "  f=y_train[j]\n",
        "\n",
        "  x0_gradient+=(beta[0]+(beta[1]*a)+(beta[2]*b)+(beta[3]*c)+(beta[4]*d)+(beta[5]*e)-f)\n",
        "  x1_gradient+=((beta[0]+(beta[1]*a)+(beta[2]*b)+(beta[3]*c)+(beta[4]*d)+(beta[5]*e)-f)*a)\n",
        "  x2_gradient+=((beta[0]+(beta[1]*a)+(beta[2]*b)+(beta[3]*c)+(beta[4]*d)+(beta[5]*e)-f)*b)\n",
        "  x3_gradient+=((beta[0]+(beta[1]*a)+(beta[2]*b)+(beta[3]*c)+(beta[4]*d)+(beta[5]*e)-f)*c)\n",
        "  x4_gradient+=((beta[0]+(beta[1]*a)+(beta[2]*b)+(beta[3]*c)+(beta[4]*d)+(beta[5]*e)-f)*d)\n",
        "  x5_gradient+=((beta[0]+(beta[1]*a)+(beta[2]*b)+(beta[3]*c)+(beta[4]*d)+(beta[5]*e)-f)*e)\n",
        "  \n",
        "  beta[0]=beta[0]-learning_rate/n*x0_gradient\n",
        "  beta[1]=beta[1]-learning_rate/n*x1_gradient\n",
        "  beta[2]=beta[2]-learning_rate/n*x2_gradient\n",
        "  beta[3]=beta[3]-learning_rate/n*x3_gradient\n",
        "  beta[4]=beta[4]-learning_rate/n*x4_gradient\n",
        "  beta[5]=beta[5]-learning_rate/n*x5_gradient\n",
        "print(beta)"
      ],
      "execution_count": 23,
      "outputs": [
        {
          "output_type": "stream",
          "name": "stdout",
          "text": [
            "[-3.81440828e+09 -3.81440828e+09  1.73425386e+10 -2.19472274e+10\n",
            "  1.81090639e+10 -1.22054823e+10]\n"
          ]
        }
      ]
    },
    {
      "cell_type": "markdown",
      "metadata": {
        "id": "vnBYPN5m58eF"
      },
      "source": [
        "###Predictions"
      ]
    },
    {
      "cell_type": "code",
      "metadata": {
        "colab": {
          "base_uri": "https://localhost:8080/"
        },
        "id": "ixoCz3e85p17",
        "outputId": "9caa09ec-5f12-463d-f052-bd2ba70e66ee"
      },
      "source": [
        "beta=np.array(beta).reshape(-1,1)\n",
        "print(beta.shape)\n",
        "y_predict=X_test.dot(beta)\n",
        "print(y_predict.shape)"
      ],
      "execution_count": 24,
      "outputs": [
        {
          "output_type": "stream",
          "name": "stdout",
          "text": [
            "(6, 1)\n",
            "(1500, 1)\n"
          ]
        }
      ]
    },
    {
      "cell_type": "code",
      "metadata": {
        "colab": {
          "base_uri": "https://localhost:8080/"
        },
        "id": "5A5IgYaD5p5c",
        "outputId": "2c74e134-c5e7-4ee4-ed32-108b77e013e0"
      },
      "source": [
        "\n",
        "y_predict"
      ],
      "execution_count": 25,
      "outputs": [
        {
          "output_type": "execute_result",
          "data": {
            "text/plain": [
              "array([[ 8.56833597e+09],\n",
              "       [-3.73029171e+09],\n",
              "       [-4.24440430e+09],\n",
              "       ...,\n",
              "       [-2.29267672e+10],\n",
              "       [-1.64960643e+10],\n",
              "       [-3.27646123e+10]])"
            ]
          },
          "metadata": {},
          "execution_count": 25
        }
      ]
    },
    {
      "cell_type": "markdown",
      "metadata": {
        "id": "BbEmczn76FeB"
      },
      "source": [
        "###Metric-based evaluations"
      ]
    },
    {
      "cell_type": "code",
      "metadata": {
        "colab": {
          "base_uri": "https://localhost:8080/"
        },
        "id": "XBnqQORQ5p9Q",
        "outputId": "9bb76ef7-adaf-4ca3-9fd6-a6fbfd74bdd4"
      },
      "source": [
        "error=y_test-y_predict\n",
        "square_error=np.power(error,2)\n",
        "sum_square_error=np.sum(square_error)\n",
        "mean_square_error=sum_square_error/len(y_predict)\n",
        "print(mean_square_error)"
      ],
      "execution_count": 26,
      "outputs": [
        {
          "output_type": "stream",
          "name": "stdout",
          "text": [
            "9.88102376986474e+20\n"
          ]
        }
      ]
    },
    {
      "cell_type": "code",
      "metadata": {
        "colab": {
          "base_uri": "https://localhost:8080/"
        },
        "id": "BKat0iyv5p-9",
        "outputId": "944421f0-51b5-4b10-e2cb-7aab6eb402da"
      },
      "source": [
        "rms_error=np.sqrt(mean_square_error)\n",
        "print(rms_error)"
      ],
      "execution_count": 27,
      "outputs": [
        {
          "output_type": "stream",
          "name": "stdout",
          "text": [
            "31434095771.732864\n"
          ]
        }
      ]
    },
    {
      "cell_type": "code",
      "metadata": {
        "colab": {
          "base_uri": "https://localhost:8080/"
        },
        "id": "62xAr81r6Kkg",
        "outputId": "11af47f2-d4ec-4f5e-d5f0-c965e8e22846"
      },
      "source": [
        "y_mean=np.mean(y_test)\n",
        "total_variance=np.sum((y_test-y_mean)**2)\n",
        "r_square = (1-sum_square_error/total_variance)\n",
        "print(rms_error)"
      ],
      "execution_count": 28,
      "outputs": [
        {
          "output_type": "stream",
          "name": "stdout",
          "text": [
            "31434095771.732864\n"
          ]
        }
      ]
    },
    {
      "cell_type": "code",
      "metadata": {
        "colab": {
          "base_uri": "https://localhost:8080/"
        },
        "id": "x36zoHFk6Km8",
        "outputId": "b7c52418-c96a-464d-d152-17ca717df682"
      },
      "source": [
        "N = len(y_predict) #N is the total sample size\n",
        "k = 5              #k is the number of predictors\n",
        "adj_r_sq = 1-(((1-r_square)*(N-1))/(N-k-1))\n",
        "print(adj_r_sq)"
      ],
      "execution_count": 29,
      "outputs": [
        {
          "output_type": "stream",
          "name": "stdout",
          "text": [
            "-8401038521.630934\n"
          ]
        }
      ]
    }
  ]
}