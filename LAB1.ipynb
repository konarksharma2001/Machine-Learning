{
  "nbformat": 4,
  "nbformat_minor": 0,
  "metadata": {
    "colab": {
      "name": "LAB1.ipynb",
      "provenance": [],
      "collapsed_sections": [],
      "authorship_tag": "ABX9TyMBeb1iezU157/twMilCRQm",
      "include_colab_link": true
    },
    "kernelspec": {
      "name": "python3",
      "display_name": "Python 3"
    },
    "language_info": {
      "name": "python"
    }
  },
  "cells": [
    {
      "cell_type": "markdown",
      "metadata": {
        "id": "view-in-github",
        "colab_type": "text"
      },
      "source": [
        "<a href=\"https://colab.research.google.com/github/konarksharma2001/pthon/blob/main/LAB1.ipynb\" target=\"_parent\"><img src=\"https://colab.research.google.com/assets/colab-badge.svg\" alt=\"Open In Colab\"/></a>"
      ]
    },
    {
      "cell_type": "markdown",
      "metadata": {
        "id": "Qwm85dGoYdnp"
      },
      "source": [
        "\n",
        "#Basics of Python"
      ]
    },
    {
      "cell_type": "code",
      "metadata": {
        "id": "G4T3UUraXpwY"
      },
      "source": [
        ""
      ],
      "execution_count": null,
      "outputs": []
    },
    {
      "cell_type": "code",
      "metadata": {
        "colab": {
          "base_uri": "https://localhost:8080/"
        },
        "id": "KbEx9i4qYycY",
        "outputId": "0ca255b8-8f8e-44e2-f1ed-80f3916e4797"
      },
      "source": [
        "!python --version\n"
      ],
      "execution_count": 1,
      "outputs": [
        {
          "output_type": "stream",
          "text": [
            "Python 3.7.11\n"
          ],
          "name": "stdout"
        }
      ]
    },
    {
      "cell_type": "code",
      "metadata": {
        "colab": {
          "base_uri": "https://localhost:8080/"
        },
        "id": "PF5NBXInZwMd",
        "outputId": "401a44da-b481-4cca-86af-171b0923da97"
      },
      "source": [
        "!pip install numpy"
      ],
      "execution_count": 2,
      "outputs": [
        {
          "output_type": "stream",
          "text": [
            "Requirement already satisfied: numpy in /usr/local/lib/python3.7/dist-packages (1.19.5)\n"
          ],
          "name": "stdout"
        }
      ]
    },
    {
      "cell_type": "code",
      "metadata": {
        "colab": {
          "base_uri": "https://localhost:8080/"
        },
        "id": "TCCRDnyXZ07H",
        "outputId": "d00afda1-2765-48a2-fffc-b8925539442f"
      },
      "source": [
        "print(\"I Love Python\")"
      ],
      "execution_count": 4,
      "outputs": [
        {
          "output_type": "stream",
          "text": [
            "I Love Python\n"
          ],
          "name": "stdout"
        }
      ]
    },
    {
      "cell_type": "code",
      "metadata": {
        "colab": {
          "base_uri": "https://localhost:8080/"
        },
        "id": "hHfggNpcZ58i",
        "outputId": "fc105534-2934-4e58-e4b3-8ed8bf3c3538"
      },
      "source": [
        "x = 1\n",
        "print(x)"
      ],
      "execution_count": 6,
      "outputs": [
        {
          "output_type": "stream",
          "text": [
            "1\n"
          ],
          "name": "stdout"
        }
      ]
    },
    {
      "cell_type": "code",
      "metadata": {
        "colab": {
          "base_uri": "https://localhost:8080/"
        },
        "id": "jVnXeeV_abcP",
        "outputId": "acb274ce-7550-4a0f-ae52-c409085f72de"
      },
      "source": [
        "x = x +1\n",
        "x"
      ],
      "execution_count": 8,
      "outputs": [
        {
          "output_type": "execute_result",
          "data": {
            "text/plain": [
              "3"
            ]
          },
          "metadata": {
            "tags": []
          },
          "execution_count": 8
        }
      ]
    },
    {
      "cell_type": "code",
      "metadata": {
        "colab": {
          "base_uri": "https://localhost:8080/"
        },
        "id": "ChUvwlPnakg4",
        "outputId": "61df949d-2e84-485c-f1e3-5e081851fe6b"
      },
      "source": [
        "5**2"
      ],
      "execution_count": 9,
      "outputs": [
        {
          "output_type": "execute_result",
          "data": {
            "text/plain": [
              "25"
            ]
          },
          "metadata": {
            "tags": []
          },
          "execution_count": 9
        }
      ]
    },
    {
      "cell_type": "code",
      "metadata": {
        "colab": {
          "base_uri": "https://localhost:8080/"
        },
        "id": "ubZYUOGweycl",
        "outputId": "c27a091e-e493-43eb-f3f5-aaba98a6563b"
      },
      "source": [
        "23%5"
      ],
      "execution_count": 10,
      "outputs": [
        {
          "output_type": "execute_result",
          "data": {
            "text/plain": [
              "3"
            ]
          },
          "metadata": {
            "tags": []
          },
          "execution_count": 10
        }
      ]
    },
    {
      "cell_type": "code",
      "metadata": {
        "colab": {
          "base_uri": "https://localhost:8080/"
        },
        "id": "suy9Vn3_e0_2",
        "outputId": "6d131b58-8761-4198-f12d-e7679c609934"
      },
      "source": [
        "23/5"
      ],
      "execution_count": 11,
      "outputs": [
        {
          "output_type": "execute_result",
          "data": {
            "text/plain": [
              "4.6"
            ]
          },
          "metadata": {
            "tags": []
          },
          "execution_count": 11
        }
      ]
    },
    {
      "cell_type": "code",
      "metadata": {
        "colab": {
          "base_uri": "https://localhost:8080/"
        },
        "id": "fR_J1Nmqe3as",
        "outputId": "5e5a8e02-8987-410e-c0ca-6a940e990b55"
      },
      "source": [
        "type('konark')"
      ],
      "execution_count": 12,
      "outputs": [
        {
          "output_type": "execute_result",
          "data": {
            "text/plain": [
              "str"
            ]
          },
          "metadata": {
            "tags": []
          },
          "execution_count": 12
        }
      ]
    },
    {
      "cell_type": "code",
      "metadata": {
        "colab": {
          "base_uri": "https://localhost:8080/"
        },
        "id": "bSiCXFEyf_GN",
        "outputId": "7adfd6cd-2c0f-41d3-e9a8-39a3686c957c"
      },
      "source": [
        "type(5)"
      ],
      "execution_count": 13,
      "outputs": [
        {
          "output_type": "execute_result",
          "data": {
            "text/plain": [
              "int"
            ]
          },
          "metadata": {
            "tags": []
          },
          "execution_count": 13
        }
      ]
    },
    {
      "cell_type": "code",
      "metadata": {
        "colab": {
          "base_uri": "https://localhost:8080/",
          "height": 35
        },
        "id": "c0nkcIdNgA4z",
        "outputId": "6c8afc88-1f55-4479-d582-72f9ace36850"
      },
      "source": [
        "'konark' + '5'"
      ],
      "execution_count": 14,
      "outputs": [
        {
          "output_type": "execute_result",
          "data": {
            "application/vnd.google.colaboratory.intrinsic+json": {
              "type": "string"
            },
            "text/plain": [
              "'konark5'"
            ]
          },
          "metadata": {
            "tags": []
          },
          "execution_count": 14
        }
      ]
    },
    {
      "cell_type": "code",
      "metadata": {
        "colab": {
          "base_uri": "https://localhost:8080/"
        },
        "id": "ZUMQ1KLogEON",
        "outputId": "b20c7a8e-15d4-4fb8-a989-22ce36790da8"
      },
      "source": [
        "float(99) + 100"
      ],
      "execution_count": 15,
      "outputs": [
        {
          "output_type": "execute_result",
          "data": {
            "text/plain": [
              "199.0"
            ]
          },
          "metadata": {
            "tags": []
          },
          "execution_count": 15
        }
      ]
    },
    {
      "cell_type": "code",
      "metadata": {
        "colab": {
          "base_uri": "https://localhost:8080/"
        },
        "id": "1tXHR1BggMMs",
        "outputId": "8215acc2-4f8e-47d2-e9e6-b81b912b1d20"
      },
      "source": [
        "a = 10\n",
        "b= float(a)\n",
        "print(b)\n",
        "print(type(b))"
      ],
      "execution_count": 16,
      "outputs": [
        {
          "output_type": "stream",
          "text": [
            "10.0\n",
            "<class 'float'>\n"
          ],
          "name": "stdout"
        }
      ]
    },
    {
      "cell_type": "code",
      "metadata": {
        "colab": {
          "base_uri": "https://localhost:8080/"
        },
        "id": "d2b2_ifsgZU6",
        "outputId": "a538c3a4-6ff1-41e1-f652-99ea2c1b7c1e"
      },
      "source": [
        "print(99/100)"
      ],
      "execution_count": 17,
      "outputs": [
        {
          "output_type": "stream",
          "text": [
            "0.99\n"
          ],
          "name": "stdout"
        }
      ]
    },
    {
      "cell_type": "code",
      "metadata": {
        "colab": {
          "base_uri": "https://localhost:8080/"
        },
        "id": "pfJdriybgdXB",
        "outputId": "cccbeb1e-6955-4b0f-834e-9bf990ba7556"
      },
      "source": [
        "name = input('Enter Your Name ')\n",
        "print('Welcome',name)"
      ],
      "execution_count": 19,
      "outputs": [
        {
          "output_type": "stream",
          "text": [
            "Enter Your Name konark\n",
            "Welcome konark\n"
          ],
          "name": "stdout"
        }
      ]
    },
    {
      "cell_type": "markdown",
      "metadata": {
        "id": "6duUUzawivDO"
      },
      "source": [
        ""
      ]
    },
    {
      "cell_type": "code",
      "metadata": {
        "id": "qQEyOk4IhDMB"
      },
      "source": [
        "# This is a comment"
      ],
      "execution_count": 20,
      "outputs": []
    },
    {
      "cell_type": "markdown",
      "metadata": {
        "id": "Wm97E47IilFb"
      },
      "source": [
        "#Make a program to convert Fahrenheit temperature to Celsius"
      ]
    },
    {
      "cell_type": "code",
      "metadata": {
        "colab": {
          "base_uri": "https://localhost:8080/"
        },
        "id": "-UoTCKYihMj0",
        "outputId": "9b755805-6e25-481f-88d5-bd718df86195"
      },
      "source": [
        "# Enter the Temperature as Fahrenheit\n",
        "fahrenheit = input('What is the Fahrenhiet Temperature ?')\n",
        "celsius = (5/9)*(float(fahrenheit)-32)\n",
        "print('Equivalent Celsius Temperature is ', celsius)"
      ],
      "execution_count": 22,
      "outputs": [
        {
          "output_type": "stream",
          "text": [
            "What is the Fahrenhiet Temperature ?80\n",
            "Equivalent Celsius Temperature is  26.666666666666668\n"
          ],
          "name": "stdout"
        }
      ]
    },
    {
      "cell_type": "code",
      "metadata": {
        "colab": {
          "base_uri": "https://localhost:8080/"
        },
        "id": "6QNKDycWiGGn",
        "outputId": "59f2b8ec-c80a-42f5-a83b-4b5946f4a1eb"
      },
      "source": [
        "# Floor division\n",
        "23//5"
      ],
      "execution_count": 25,
      "outputs": [
        {
          "output_type": "execute_result",
          "data": {
            "text/plain": [
              "4"
            ]
          },
          "metadata": {
            "tags": []
          },
          "execution_count": 25
        }
      ]
    },
    {
      "cell_type": "markdown",
      "metadata": {
        "id": "5uXJC1a1jfcu"
      },
      "source": [
        "#Lists\n"
      ]
    },
    {
      "cell_type": "code",
      "metadata": {
        "colab": {
          "base_uri": "https://localhost:8080/"
        },
        "id": "X2se2mMxjmLi",
        "outputId": "08fb9bed-3922-40e8-ebd8-1bed4163aed5"
      },
      "source": [
        "# Mutable means that can be changed\n",
        "[1,2,3,4,5]"
      ],
      "execution_count": 27,
      "outputs": [
        {
          "output_type": "execute_result",
          "data": {
            "text/plain": [
              "[1, 2, 3, 4, 5]"
            ]
          },
          "metadata": {
            "tags": []
          },
          "execution_count": 27
        }
      ]
    },
    {
      "cell_type": "code",
      "metadata": {
        "colab": {
          "base_uri": "https://localhost:8080/"
        },
        "id": "uOgBoBROj3-d",
        "outputId": "a4f4ed40-b29a-471f-c23f-4aa5b548d637"
      },
      "source": [
        "student_list = ['a','b','c']\n",
        "student_list"
      ],
      "execution_count": 28,
      "outputs": [
        {
          "output_type": "execute_result",
          "data": {
            "text/plain": [
              "['a', 'b', 'c']"
            ]
          },
          "metadata": {
            "tags": []
          },
          "execution_count": 28
        }
      ]
    },
    {
      "cell_type": "code",
      "metadata": {
        "colab": {
          "base_uri": "https://localhost:8080/"
        },
        "id": "Npp3OzzikAxq",
        "outputId": "cc0cca31-a3a0-469c-fa70-90fa4b6213a0"
      },
      "source": [
        "len(student_list)"
      ],
      "execution_count": 29,
      "outputs": [
        {
          "output_type": "execute_result",
          "data": {
            "text/plain": [
              "3"
            ]
          },
          "metadata": {
            "tags": []
          },
          "execution_count": 29
        }
      ]
    },
    {
      "cell_type": "code",
      "metadata": {
        "colab": {
          "base_uri": "https://localhost:8080/"
        },
        "id": "gu-NG3pzkCvd",
        "outputId": "ed0535ad-cd17-4608-a54a-3c59fe0ca723"
      },
      "source": [
        "[]"
      ],
      "execution_count": 30,
      "outputs": [
        {
          "output_type": "execute_result",
          "data": {
            "text/plain": [
              "[]"
            ]
          },
          "metadata": {
            "tags": []
          },
          "execution_count": 30
        }
      ]
    },
    {
      "cell_type": "code",
      "metadata": {
        "colab": {
          "base_uri": "https://localhost:8080/"
        },
        "id": "HEhPwhYRkESP",
        "outputId": "19ccc828-8279-4322-8597-893b3900f82a"
      },
      "source": [
        "prime_ministers = ['Dr. Manmohan Singh','Narendra Modi','Mrs. Pratibha Patel']\n",
        "prime_ministers"
      ],
      "execution_count": 37,
      "outputs": [
        {
          "output_type": "execute_result",
          "data": {
            "text/plain": [
              "['Dr. Manmohan Singh', 'Narendra Modi', 'Mrs. Pratibha Patel']"
            ]
          },
          "metadata": {
            "tags": []
          },
          "execution_count": 37
        }
      ]
    },
    {
      "cell_type": "code",
      "metadata": {
        "colab": {
          "base_uri": "https://localhost:8080/"
        },
        "id": "b1TfkWa4kjl6",
        "outputId": "6c0ca7e2-b786-41b7-f365-ff912947533e"
      },
      "source": [
        "prime_ministers.append"
      ],
      "execution_count": 32,
      "outputs": [
        {
          "output_type": "execute_result",
          "data": {
            "text/plain": [
              "<function list.append>"
            ]
          },
          "metadata": {
            "tags": []
          },
          "execution_count": 32
        }
      ]
    },
    {
      "cell_type": "code",
      "metadata": {
        "colab": {
          "base_uri": "https://localhost:8080/",
          "height": 35
        },
        "id": "LCqNKHmtknGh",
        "outputId": "e60b16bd-6f32-42c2-ae9a-00fe32b26c3d"
      },
      "source": [
        "prime_ministers.pop()"
      ],
      "execution_count": 33,
      "outputs": [
        {
          "output_type": "execute_result",
          "data": {
            "application/vnd.google.colaboratory.intrinsic+json": {
              "type": "string"
            },
            "text/plain": [
              "'Narendra Modi'"
            ]
          },
          "metadata": {
            "tags": []
          },
          "execution_count": 33
        }
      ]
    },
    {
      "cell_type": "code",
      "metadata": {
        "id": "fnCpLyYKkq1R"
      },
      "source": [
        "prime_ministers.remove('Dr. Manmohan Singh')"
      ],
      "execution_count": 34,
      "outputs": []
    },
    {
      "cell_type": "code",
      "metadata": {
        "colab": {
          "base_uri": "https://localhost:8080/"
        },
        "id": "2vJx0oNHkzIn",
        "outputId": "91a2162a-482b-4d97-cac3-484fa26d24e1"
      },
      "source": [
        "prime_ministers"
      ],
      "execution_count": 38,
      "outputs": [
        {
          "output_type": "execute_result",
          "data": {
            "text/plain": [
              "['Dr. Manmohan Singh', 'Narendra Modi', 'Mrs. Pratibha Patel']"
            ]
          },
          "metadata": {
            "tags": []
          },
          "execution_count": 38
        }
      ]
    },
    {
      "cell_type": "code",
      "metadata": {
        "id": "5m5qHaTak05Y"
      },
      "source": [
        "days = ['sunday','monday']"
      ],
      "execution_count": 42,
      "outputs": []
    },
    {
      "cell_type": "code",
      "metadata": {
        "colab": {
          "base_uri": "https://localhost:8080/"
        },
        "id": "ZVc2SkTKlLO1",
        "outputId": "444a5f68-b300-4ea7-c38d-8edbc32541dc"
      },
      "source": [
        "'sunday' in days"
      ],
      "execution_count": 43,
      "outputs": [
        {
          "output_type": "execute_result",
          "data": {
            "text/plain": [
              "True"
            ]
          },
          "metadata": {
            "tags": []
          },
          "execution_count": 43
        }
      ]
    },
    {
      "cell_type": "code",
      "metadata": {
        "id": "ZfSB7L9LlNZ8"
      },
      "source": [
        "ironman = 'Ironman'"
      ],
      "execution_count": 44,
      "outputs": []
    },
    {
      "cell_type": "code",
      "metadata": {
        "colab": {
          "base_uri": "https://localhost:8080/",
          "height": 35
        },
        "id": "h5F7rHwul8uW",
        "outputId": "e995088c-5533-44fc-be8d-589a040b9786"
      },
      "source": [
        "ironman[1]"
      ],
      "execution_count": 45,
      "outputs": [
        {
          "output_type": "execute_result",
          "data": {
            "application/vnd.google.colaboratory.intrinsic+json": {
              "type": "string"
            },
            "text/plain": [
              "'r'"
            ]
          },
          "metadata": {
            "tags": []
          },
          "execution_count": 45
        }
      ]
    },
    {
      "cell_type": "code",
      "metadata": {
        "colab": {
          "base_uri": "https://localhost:8080/",
          "height": 35
        },
        "id": "0t5A1xshl_Vz",
        "outputId": "50bad339-31c8-4d9f-f7c1-d63eed1758c4"
      },
      "source": [
        "ironman[-1]"
      ],
      "execution_count": 46,
      "outputs": [
        {
          "output_type": "execute_result",
          "data": {
            "application/vnd.google.colaboratory.intrinsic+json": {
              "type": "string"
            },
            "text/plain": [
              "'n'"
            ]
          },
          "metadata": {
            "tags": []
          },
          "execution_count": 46
        }
      ]
    },
    {
      "cell_type": "code",
      "metadata": {
        "colab": {
          "base_uri": "https://localhost:8080/",
          "height": 35
        },
        "id": "0_z-OdqYmBcr",
        "outputId": "054bd065-8399-4ef2-d9cc-4b4bdaed812a"
      },
      "source": [
        "ironman[-7]"
      ],
      "execution_count": 47,
      "outputs": [
        {
          "output_type": "execute_result",
          "data": {
            "application/vnd.google.colaboratory.intrinsic+json": {
              "type": "string"
            },
            "text/plain": [
              "'I'"
            ]
          },
          "metadata": {
            "tags": []
          },
          "execution_count": 47
        }
      ]
    },
    {
      "cell_type": "code",
      "metadata": {
        "colab": {
          "base_uri": "https://localhost:8080/",
          "height": 35
        },
        "id": "yXEYZqWLmcNd",
        "outputId": "c1f50211-8f80-4444-ff11-87960da3d7cd"
      },
      "source": [
        "ironman[len(ironman)-1]"
      ],
      "execution_count": 48,
      "outputs": [
        {
          "output_type": "execute_result",
          "data": {
            "application/vnd.google.colaboratory.intrinsic+json": {
              "type": "string"
            },
            "text/plain": [
              "'n'"
            ]
          },
          "metadata": {
            "tags": []
          },
          "execution_count": 48
        }
      ]
    },
    {
      "cell_type": "code",
      "metadata": {
        "id": "L02rxSK6mg02"
      },
      "source": [
        "tvseries = ['Flash', 'Arrow', 'Greys Anatomy', 'Elementary', 'Sherlock']"
      ],
      "execution_count": 49,
      "outputs": []
    },
    {
      "cell_type": "code",
      "metadata": {
        "colab": {
          "base_uri": "https://localhost:8080/"
        },
        "id": "UWBMISosncbS",
        "outputId": "b5d92dfd-7e83-467e-db92-057c7dcccc79"
      },
      "source": [
        "len(tvseries)"
      ],
      "execution_count": 54,
      "outputs": [
        {
          "output_type": "execute_result",
          "data": {
            "text/plain": [
              "5"
            ]
          },
          "metadata": {
            "tags": []
          },
          "execution_count": 54
        }
      ]
    },
    {
      "cell_type": "code",
      "metadata": {
        "colab": {
          "base_uri": "https://localhost:8080/"
        },
        "id": "Zp-JGXp5nJ0i",
        "outputId": "e4a000b9-f3be-45fa-80f4-c1c5939e4c36"
      },
      "source": [
        "tvseries[1:4]"
      ],
      "execution_count": 50,
      "outputs": [
        {
          "output_type": "execute_result",
          "data": {
            "text/plain": [
              "['Arrow', 'Greys Anatomy', 'Elementary']"
            ]
          },
          "metadata": {
            "tags": []
          },
          "execution_count": 50
        }
      ]
    },
    {
      "cell_type": "code",
      "metadata": {
        "colab": {
          "base_uri": "https://localhost:8080/"
        },
        "id": "zcNxr7u7nMXR",
        "outputId": "24302901-d9e8-4f7f-80bc-7f8f370c1162"
      },
      "source": [
        "tvseries[3:5]"
      ],
      "execution_count": 51,
      "outputs": [
        {
          "output_type": "execute_result",
          "data": {
            "text/plain": [
              "['Elementary', 'Sherlock']"
            ]
          },
          "metadata": {
            "tags": []
          },
          "execution_count": 51
        }
      ]
    },
    {
      "cell_type": "code",
      "metadata": {
        "colab": {
          "base_uri": "https://localhost:8080/",
          "height": 35
        },
        "id": "78aoyq36nRie",
        "outputId": "79953b03-362d-45f2-c5ab-04c6200538a5"
      },
      "source": [
        "ironman[0:3]"
      ],
      "execution_count": 52,
      "outputs": [
        {
          "output_type": "execute_result",
          "data": {
            "application/vnd.google.colaboratory.intrinsic+json": {
              "type": "string"
            },
            "text/plain": [
              "'Iro'"
            ]
          },
          "metadata": {
            "tags": []
          },
          "execution_count": 52
        }
      ]
    },
    {
      "cell_type": "code",
      "metadata": {
        "colab": {
          "base_uri": "https://localhost:8080/",
          "height": 35
        },
        "id": "jXGfVQlwnVvv",
        "outputId": "34b9cc21-54ae-4194-f03e-81cf986aa41f"
      },
      "source": [
        "ironman[:3]"
      ],
      "execution_count": 53,
      "outputs": [
        {
          "output_type": "execute_result",
          "data": {
            "application/vnd.google.colaboratory.intrinsic+json": {
              "type": "string"
            },
            "text/plain": [
              "'Iro'"
            ]
          },
          "metadata": {
            "tags": []
          },
          "execution_count": 53
        }
      ]
    },
    {
      "cell_type": "code",
      "metadata": {
        "colab": {
          "base_uri": "https://localhost:8080/"
        },
        "id": "JFozeExjnaE7",
        "outputId": "a6d485ee-1827-4d08-a2d2-42d800e2635c"
      },
      "source": [
        "tvseries[2:]"
      ],
      "execution_count": 55,
      "outputs": [
        {
          "output_type": "execute_result",
          "data": {
            "text/plain": [
              "['Greys Anatomy', 'Elementary', 'Sherlock']"
            ]
          },
          "metadata": {
            "tags": []
          },
          "execution_count": 55
        }
      ]
    },
    {
      "cell_type": "code",
      "metadata": {
        "colab": {
          "base_uri": "https://localhost:8080/"
        },
        "id": "WqOhQelEnhga",
        "outputId": "49a6b361-3b50-496b-9f27-6c3f04eaa458"
      },
      "source": [
        "tvseries[2:-2]"
      ],
      "execution_count": 56,
      "outputs": [
        {
          "output_type": "execute_result",
          "data": {
            "text/plain": [
              "['Greys Anatomy']"
            ]
          },
          "metadata": {
            "tags": []
          },
          "execution_count": 56
        }
      ]
    },
    {
      "cell_type": "code",
      "metadata": {
        "id": "kcwjRzg2nk14"
      },
      "source": [
        ""
      ],
      "execution_count": null,
      "outputs": []
    },
    {
      "cell_type": "markdown",
      "metadata": {
        "id": "ID9aA400nqk9"
      },
      "source": [
        "##Dictionaries"
      ]
    },
    {
      "cell_type": "code",
      "metadata": {
        "colab": {
          "base_uri": "https://localhost:8080/"
        },
        "id": "IWEdgrTwnwBD",
        "outputId": "13d5bb4c-f2c7-4bb6-a87f-153f1eb90988"
      },
      "source": [
        "jersey_num = {\n",
        "    \"Rohit Sharma\": 45,\n",
        "    \"Virat Kohli\":  18,\n",
        "    \"Sachin Tendulkar\": 10,\n",
        "    \"MS Dhoni\": 7\n",
        "}\n",
        "\n",
        "jersey_num"
      ],
      "execution_count": 58,
      "outputs": [
        {
          "output_type": "execute_result",
          "data": {
            "text/plain": [
              "{'MS Dhoni': 7, 'Rohit Sharma': 45, 'Sachin Tendulkar': 10, 'Virat Kohli': 18}"
            ]
          },
          "metadata": {
            "tags": []
          },
          "execution_count": 58
        }
      ]
    },
    {
      "cell_type": "code",
      "metadata": {
        "colab": {
          "base_uri": "https://localhost:8080/"
        },
        "id": "AphzkKzroItk",
        "outputId": "0f006348-10ba-48ec-fb25-cab30bcce561"
      },
      "source": [
        "len(jersey_num)"
      ],
      "execution_count": 59,
      "outputs": [
        {
          "output_type": "execute_result",
          "data": {
            "text/plain": [
              "4"
            ]
          },
          "metadata": {
            "tags": []
          },
          "execution_count": 59
        }
      ]
    },
    {
      "cell_type": "code",
      "metadata": {
        "colab": {
          "base_uri": "https://localhost:8080/"
        },
        "id": "CRMQEBLqoMHr",
        "outputId": "f8efdf5f-afa2-4c1d-f9b5-fe8516ccf602"
      },
      "source": [
        "jersey_num['Rohit Sharma']"
      ],
      "execution_count": 60,
      "outputs": [
        {
          "output_type": "execute_result",
          "data": {
            "text/plain": [
              "45"
            ]
          },
          "metadata": {
            "tags": []
          },
          "execution_count": 60
        }
      ]
    },
    {
      "cell_type": "code",
      "metadata": {
        "colab": {
          "base_uri": "https://localhost:8080/"
        },
        "id": "UGilYoyioRnu",
        "outputId": "35f2818e-3933-44fa-ec73-257ed80f8134"
      },
      "source": [
        "jersey_num['Yujraj Singh'] = 11\n",
        "jersey_num"
      ],
      "execution_count": 61,
      "outputs": [
        {
          "output_type": "execute_result",
          "data": {
            "text/plain": [
              "{'MS Dhoni': 7,\n",
              " 'Rohit Sharma': 45,\n",
              " 'Sachin Tendulkar': 10,\n",
              " 'Virat Kohli': 18,\n",
              " 'Yujraj Singh': 11}"
            ]
          },
          "metadata": {
            "tags": []
          },
          "execution_count": 61
        }
      ]
    },
    {
      "cell_type": "code",
      "metadata": {
        "colab": {
          "base_uri": "https://localhost:8080/"
        },
        "id": "eLvxcXZPoeuh",
        "outputId": "2941be37-7706-4db6-dd00-ef4c24d58b99"
      },
      "source": [
        "jersey_num.pop('MS Dhoni')\n",
        "jersey_num"
      ],
      "execution_count": 62,
      "outputs": [
        {
          "output_type": "execute_result",
          "data": {
            "text/plain": [
              "{'Rohit Sharma': 45,\n",
              " 'Sachin Tendulkar': 10,\n",
              " 'Virat Kohli': 18,\n",
              " 'Yujraj Singh': 11}"
            ]
          },
          "metadata": {
            "tags": []
          },
          "execution_count": 62
        }
      ]
    },
    {
      "cell_type": "code",
      "metadata": {
        "colab": {
          "base_uri": "https://localhost:8080/"
        },
        "id": "p_TLvYAuos2L",
        "outputId": "b246bd89-0df4-4d64-e924-6b6cdb728c4c"
      },
      "source": [
        "'Rohit Sharma' in jersey_num"
      ],
      "execution_count": 64,
      "outputs": [
        {
          "output_type": "execute_result",
          "data": {
            "text/plain": [
              "True"
            ]
          },
          "metadata": {
            "tags": []
          },
          "execution_count": 64
        }
      ]
    },
    {
      "cell_type": "code",
      "metadata": {
        "colab": {
          "base_uri": "https://localhost:8080/"
        },
        "id": "vdwTYLzBoyX3",
        "outputId": "8df8a6dc-0ac7-4cb7-9d1b-64f116b0215a"
      },
      "source": [
        "45 in jersey_num.values()"
      ],
      "execution_count": 65,
      "outputs": [
        {
          "output_type": "execute_result",
          "data": {
            "text/plain": [
              "True"
            ]
          },
          "metadata": {
            "tags": []
          },
          "execution_count": 65
        }
      ]
    },
    {
      "cell_type": "code",
      "metadata": {
        "id": "B_hqZQmzpGVN"
      },
      "source": [
        ""
      ],
      "execution_count": null,
      "outputs": []
    },
    {
      "cell_type": "code",
      "metadata": {
        "colab": {
          "base_uri": "https://localhost:8080/"
        },
        "id": "sNqNYyIVo98J",
        "outputId": "f2901f08-7099-47b1-a8b8-7864c98137f4"
      },
      "source": [
        "jersey_num.values()"
      ],
      "execution_count": 66,
      "outputs": [
        {
          "output_type": "execute_result",
          "data": {
            "text/plain": [
              "dict_values([45, 18, 10, 11])"
            ]
          },
          "metadata": {
            "tags": []
          },
          "execution_count": 66
        }
      ]
    },
    {
      "cell_type": "markdown",
      "metadata": {
        "id": "0KXqtAj2pD89"
      },
      "source": [
        "###Tuples"
      ]
    },
    {
      "cell_type": "code",
      "metadata": {
        "id": "LQrAKEoRpIC0"
      },
      "source": [
        "# Tuples are immutable\n",
        "t = (1,2,3,4,5)"
      ],
      "execution_count": 67,
      "outputs": []
    },
    {
      "cell_type": "code",
      "metadata": {
        "colab": {
          "base_uri": "https://localhost:8080/"
        },
        "id": "O3BBUDC6pRGD",
        "outputId": "921ee341-c70f-4dc3-d593-904deca2e56e"
      },
      "source": [
        "#Sets\n",
        "{1,2,3,4,5}"
      ],
      "execution_count": 68,
      "outputs": [
        {
          "output_type": "execute_result",
          "data": {
            "text/plain": [
              "{1, 2, 3, 4, 5}"
            ]
          },
          "metadata": {
            "tags": []
          },
          "execution_count": 68
        }
      ]
    },
    {
      "cell_type": "code",
      "metadata": {
        "id": "Z3koasb5pXZe"
      },
      "source": [
        ""
      ],
      "execution_count": null,
      "outputs": []
    }
  ]
}