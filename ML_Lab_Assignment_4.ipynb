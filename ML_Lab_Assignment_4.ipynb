{
  "nbformat": 4,
  "nbformat_minor": 0,
  "metadata": {
    "colab": {
      "name": "Assignment 4.ipynb",
      "provenance": [],
      "collapsed_sections": [],
      "authorship_tag": "ABX9TyMnfAvPhw0tydb0XjPCR9ul",
      "include_colab_link": true
    },
    "kernelspec": {
      "name": "python3",
      "display_name": "Python 3"
    },
    "language_info": {
      "name": "python"
    }
  },
  "cells": [
    {
      "cell_type": "markdown",
      "metadata": {
        "id": "view-in-github",
        "colab_type": "text"
      },
      "source": [
        "<a href=\"https://colab.research.google.com/github/konarksharma2001/Machine-Learning/blob/main/ML_Lab_Assignment_4.ipynb\" target=\"_parent\"><img src=\"https://colab.research.google.com/assets/colab-badge.svg\" alt=\"Open In Colab\"/></a>"
      ]
    },
    {
      "cell_type": "markdown",
      "metadata": {
        "id": "Nc3uQFEPld3f"
      },
      "source": [
        "##Q.1"
      ]
    },
    {
      "cell_type": "code",
      "metadata": {
        "id": "0nAfY_gDlgUK"
      },
      "source": [
        "#Multiclass Logistic Classification\n",
        "\n",
        "# Importing the libraries\n",
        "import numpy as np\n",
        "import matplotlib.pyplot as plt\n",
        "import pandas as pd"
      ],
      "execution_count": null,
      "outputs": []
    },
    {
      "cell_type": "code",
      "metadata": {
        "id": "wfkIW3dQlgu5"
      },
      "source": [
        "# Importing the dataset\n",
        "dataset = pd.read_csv('iris.csv')"
      ],
      "execution_count": null,
      "outputs": []
    },
    {
      "cell_type": "code",
      "metadata": {
        "colab": {
          "base_uri": "https://localhost:8080/",
          "height": 206
        },
        "id": "Btgu7ZPWlgxs",
        "outputId": "eff5f4b5-238b-4bc4-99a7-4d1bf57f2b38"
      },
      "source": [
        "#looking at the first 5 values of the dataset\n",
        "dataset.head()"
      ],
      "execution_count": null,
      "outputs": [
        {
          "output_type": "execute_result",
          "data": {
            "text/html": [
              "<div>\n",
              "<style scoped>\n",
              "    .dataframe tbody tr th:only-of-type {\n",
              "        vertical-align: middle;\n",
              "    }\n",
              "\n",
              "    .dataframe tbody tr th {\n",
              "        vertical-align: top;\n",
              "    }\n",
              "\n",
              "    .dataframe thead th {\n",
              "        text-align: right;\n",
              "    }\n",
              "</style>\n",
              "<table border=\"1\" class=\"dataframe\">\n",
              "  <thead>\n",
              "    <tr style=\"text-align: right;\">\n",
              "      <th></th>\n",
              "      <th>sepal_length</th>\n",
              "      <th>sepal_width</th>\n",
              "      <th>petal_length</th>\n",
              "      <th>petal_width</th>\n",
              "      <th>species</th>\n",
              "    </tr>\n",
              "  </thead>\n",
              "  <tbody>\n",
              "    <tr>\n",
              "      <th>0</th>\n",
              "      <td>5.1</td>\n",
              "      <td>3.5</td>\n",
              "      <td>1.4</td>\n",
              "      <td>0.2</td>\n",
              "      <td>setosa</td>\n",
              "    </tr>\n",
              "    <tr>\n",
              "      <th>1</th>\n",
              "      <td>4.9</td>\n",
              "      <td>3.0</td>\n",
              "      <td>1.4</td>\n",
              "      <td>0.2</td>\n",
              "      <td>setosa</td>\n",
              "    </tr>\n",
              "    <tr>\n",
              "      <th>2</th>\n",
              "      <td>4.7</td>\n",
              "      <td>3.2</td>\n",
              "      <td>1.3</td>\n",
              "      <td>0.2</td>\n",
              "      <td>setosa</td>\n",
              "    </tr>\n",
              "    <tr>\n",
              "      <th>3</th>\n",
              "      <td>4.6</td>\n",
              "      <td>3.1</td>\n",
              "      <td>1.5</td>\n",
              "      <td>0.2</td>\n",
              "      <td>setosa</td>\n",
              "    </tr>\n",
              "    <tr>\n",
              "      <th>4</th>\n",
              "      <td>5.0</td>\n",
              "      <td>3.6</td>\n",
              "      <td>1.4</td>\n",
              "      <td>0.2</td>\n",
              "      <td>setosa</td>\n",
              "    </tr>\n",
              "  </tbody>\n",
              "</table>\n",
              "</div>"
            ],
            "text/plain": [
              "   sepal_length  sepal_width  petal_length  petal_width species\n",
              "0           5.1          3.5           1.4          0.2  setosa\n",
              "1           4.9          3.0           1.4          0.2  setosa\n",
              "2           4.7          3.2           1.3          0.2  setosa\n",
              "3           4.6          3.1           1.5          0.2  setosa\n",
              "4           5.0          3.6           1.4          0.2  setosa"
            ]
          },
          "metadata": {},
          "execution_count": 3
        }
      ]
    },
    {
      "cell_type": "code",
      "metadata": {
        "id": "oYxxCrMnlg1r"
      },
      "source": [
        "#Spliting the dataset in independent and dependent variables\n",
        "X = dataset.iloc[:,:4].values\n",
        "y = dataset['species'].values"
      ],
      "execution_count": null,
      "outputs": []
    },
    {
      "cell_type": "code",
      "metadata": {
        "id": "bowX4dAglg4c"
      },
      "source": [
        "# Splitting the dataset into the Training set and Test set\n",
        "from sklearn.model_selection import train_test_split\n",
        "X_train, X_test, y_train, y_test = train_test_split(X, y, test_size = 0.20, random_state = 82)"
      ],
      "execution_count": null,
      "outputs": []
    },
    {
      "cell_type": "code",
      "metadata": {
        "id": "GQCfFU7Jlg87"
      },
      "source": [
        "# Feature Scaling to bring the variable in a single scale\n",
        "from sklearn.preprocessing import StandardScaler\n",
        "sc = StandardScaler()\n",
        "X_train = sc.fit_transform(X_train)\n",
        "X_test = sc.transform(X_test)"
      ],
      "execution_count": null,
      "outputs": []
    },
    {
      "cell_type": "code",
      "metadata": {
        "colab": {
          "base_uri": "https://localhost:8080/"
        },
        "id": "i3SksC1_lhAu",
        "outputId": "d3ebbee7-face-42a0-ea03-df20654517d0"
      },
      "source": [
        "# Fitting Multiclass Logistic Classification to the Training set\n",
        "from sklearn.linear_model import LogisticRegression\n",
        "logisticregression = LogisticRegression()\n",
        "logisticregression.fit(X_train, y_train)"
      ],
      "execution_count": null,
      "outputs": [
        {
          "output_type": "execute_result",
          "data": {
            "text/plain": [
              "LogisticRegression()"
            ]
          },
          "metadata": {},
          "execution_count": 24
        }
      ]
    },
    {
      "cell_type": "code",
      "metadata": {
        "colab": {
          "base_uri": "https://localhost:8080/"
        },
        "id": "Q0w9ydBVlhEN",
        "outputId": "1b576b8c-80ff-47c1-8132-8d6e787953ee"
      },
      "source": [
        "# Predicting the Test set results\n",
        "y_pred = logisticregression.predict(X_test)\n",
        "print(y_pred)"
      ],
      "execution_count": null,
      "outputs": [
        {
          "output_type": "stream",
          "name": "stdout",
          "text": [
            "['virginica' 'virginica' 'setosa' 'setosa' 'setosa' 'virginica'\n",
            " 'versicolor' 'versicolor' 'versicolor' 'versicolor' 'versicolor'\n",
            " 'versicolor' 'setosa' 'setosa' 'setosa' 'setosa' 'virginica' 'versicolor'\n",
            " 'setosa' 'versicolor' 'setosa' 'virginica' 'setosa' 'virginica'\n",
            " 'virginica' 'versicolor' 'virginica' 'setosa' 'virginica' 'versicolor']\n"
          ]
        }
      ]
    },
    {
      "cell_type": "code",
      "metadata": {
        "colab": {
          "base_uri": "https://localhost:8080/"
        },
        "id": "19KWjLY9lhHS",
        "outputId": "ea8cf91b-2b7f-49e3-8ba5-a40e6dce3011"
      },
      "source": [
        "#lets see the actual and predicted value side by side\n",
        "y_compare = np.vstack((y_test,y_pred)).T\n",
        "#actual value on the left side and predicted value on the right hand side\n",
        "#printing the top 5 values\n",
        "y_compare[:5,:]"
      ],
      "execution_count": null,
      "outputs": [
        {
          "output_type": "execute_result",
          "data": {
            "text/plain": [
              "array([['virginica', 'virginica'],\n",
              "       ['virginica', 'virginica'],\n",
              "       ['setosa', 'setosa'],\n",
              "       ['setosa', 'setosa'],\n",
              "       ['setosa', 'setosa']], dtype=object)"
            ]
          },
          "metadata": {},
          "execution_count": 26
        }
      ]
    },
    {
      "cell_type": "code",
      "metadata": {
        "colab": {
          "base_uri": "https://localhost:8080/"
        },
        "id": "XjWwkeR6lhKN",
        "outputId": "aba4c1de-9211-4526-9f4b-199047d9d595"
      },
      "source": [
        "# Making the Confusion Matrix\n",
        "from sklearn.metrics import confusion_matrix\n",
        "cm = confusion_matrix(y_test, y_pred)\n",
        "print(cm)"
      ],
      "execution_count": null,
      "outputs": [
        {
          "output_type": "stream",
          "name": "stdout",
          "text": [
            "[[11  0  0]\n",
            " [ 0  8  1]\n",
            " [ 0  2  8]]\n"
          ]
        }
      ]
    },
    {
      "cell_type": "code",
      "metadata": {
        "colab": {
          "base_uri": "https://localhost:8080/"
        },
        "id": "QZgMjDMzlhM6",
        "outputId": "f3ef3988-61ef-474a-bd07-5bb7d2ec7abf"
      },
      "source": [
        "#finding accuracy from the confusion matrix.\n",
        "a = cm.shape\n",
        "corrPred = 0\n",
        "falsePred = 0\n",
        "\n",
        "for row in range(a[0]):\n",
        "    for c in range(a[1]):\n",
        "        if row == c:\n",
        "            corrPred +=cm[row,c]\n",
        "        else:\n",
        "            falsePred += cm[row,c]\n",
        "print('Correct predictions: ', corrPred)\n",
        "print('False predictions', falsePred)\n",
        "print ('Accuracy of the multiclass logistic classification is: ', corrPred/(cm.sum()))     "
      ],
      "execution_count": null,
      "outputs": [
        {
          "output_type": "stream",
          "name": "stdout",
          "text": [
            "Correct predictions:  27\n",
            "False predictions 3\n",
            "Accuracy of the multiclass logistic classification is:  0.9\n"
          ]
        }
      ]
    },
    {
      "cell_type": "markdown",
      "metadata": {
        "id": "7LUCdaxCm2oC"
      },
      "source": [
        "##Q.2"
      ]
    },
    {
      "cell_type": "code",
      "metadata": {
        "id": "cUCUt9V0m29t"
      },
      "source": [
        "# Importing the libraries\n",
        "import numpy as np\n",
        "import matplotlib.pyplot as plt\n",
        "import pandas as pd"
      ],
      "execution_count": null,
      "outputs": []
    },
    {
      "cell_type": "code",
      "metadata": {
        "id": "0tf_6CCZsFK3"
      },
      "source": [
        "# Importing the dataset\n",
        "dataset = pd.read_csv('iris.csv')"
      ],
      "execution_count": null,
      "outputs": []
    },
    {
      "cell_type": "code",
      "metadata": {
        "colab": {
          "base_uri": "https://localhost:8080/",
          "height": 206
        },
        "id": "HkYmNQnwsFNU",
        "outputId": "a9a0acc7-264f-4cbb-8a9a-1e0e6ea6d030"
      },
      "source": [
        "#looking at the first 5 values of the dataset\n",
        "dataset.head()"
      ],
      "execution_count": null,
      "outputs": [
        {
          "output_type": "execute_result",
          "data": {
            "text/html": [
              "<div>\n",
              "<style scoped>\n",
              "    .dataframe tbody tr th:only-of-type {\n",
              "        vertical-align: middle;\n",
              "    }\n",
              "\n",
              "    .dataframe tbody tr th {\n",
              "        vertical-align: top;\n",
              "    }\n",
              "\n",
              "    .dataframe thead th {\n",
              "        text-align: right;\n",
              "    }\n",
              "</style>\n",
              "<table border=\"1\" class=\"dataframe\">\n",
              "  <thead>\n",
              "    <tr style=\"text-align: right;\">\n",
              "      <th></th>\n",
              "      <th>sepal_length</th>\n",
              "      <th>sepal_width</th>\n",
              "      <th>petal_length</th>\n",
              "      <th>petal_width</th>\n",
              "      <th>species</th>\n",
              "    </tr>\n",
              "  </thead>\n",
              "  <tbody>\n",
              "    <tr>\n",
              "      <th>0</th>\n",
              "      <td>5.1</td>\n",
              "      <td>3.5</td>\n",
              "      <td>1.4</td>\n",
              "      <td>0.2</td>\n",
              "      <td>setosa</td>\n",
              "    </tr>\n",
              "    <tr>\n",
              "      <th>1</th>\n",
              "      <td>4.9</td>\n",
              "      <td>3.0</td>\n",
              "      <td>1.4</td>\n",
              "      <td>0.2</td>\n",
              "      <td>setosa</td>\n",
              "    </tr>\n",
              "    <tr>\n",
              "      <th>2</th>\n",
              "      <td>4.7</td>\n",
              "      <td>3.2</td>\n",
              "      <td>1.3</td>\n",
              "      <td>0.2</td>\n",
              "      <td>setosa</td>\n",
              "    </tr>\n",
              "    <tr>\n",
              "      <th>3</th>\n",
              "      <td>4.6</td>\n",
              "      <td>3.1</td>\n",
              "      <td>1.5</td>\n",
              "      <td>0.2</td>\n",
              "      <td>setosa</td>\n",
              "    </tr>\n",
              "    <tr>\n",
              "      <th>4</th>\n",
              "      <td>5.0</td>\n",
              "      <td>3.6</td>\n",
              "      <td>1.4</td>\n",
              "      <td>0.2</td>\n",
              "      <td>setosa</td>\n",
              "    </tr>\n",
              "  </tbody>\n",
              "</table>\n",
              "</div>"
            ],
            "text/plain": [
              "   sepal_length  sepal_width  petal_length  petal_width species\n",
              "0           5.1          3.5           1.4          0.2  setosa\n",
              "1           4.9          3.0           1.4          0.2  setosa\n",
              "2           4.7          3.2           1.3          0.2  setosa\n",
              "3           4.6          3.1           1.5          0.2  setosa\n",
              "4           5.0          3.6           1.4          0.2  setosa"
            ]
          },
          "metadata": {},
          "execution_count": 16
        }
      ]
    },
    {
      "cell_type": "code",
      "metadata": {
        "id": "kfs66h2msFQL"
      },
      "source": [
        "#Spliting the dataset in independent and dependent variables\n",
        "X = dataset.iloc[:,:4].values\n",
        "y = dataset['species'].values"
      ],
      "execution_count": null,
      "outputs": []
    },
    {
      "cell_type": "code",
      "metadata": {
        "id": "5Zau23vFsFSH"
      },
      "source": [
        "# Splitting the dataset into the Training set and Test set\n",
        "from sklearn.model_selection import train_test_split\n",
        "X_train, X_test, y_train, y_test = train_test_split(X, y, test_size = 0.20, random_state = 82)"
      ],
      "execution_count": null,
      "outputs": []
    },
    {
      "cell_type": "code",
      "metadata": {
        "id": "uAQ4VqMeuJlC"
      },
      "source": [
        "# Feature Scaling to bring the variable in a single scale\n",
        "from sklearn.preprocessing import StandardScaler\n",
        "sc = StandardScaler()\n",
        "X_train = sc.fit_transform(X_train)\n",
        "X_test = sc.transform(X_test)"
      ],
      "execution_count": null,
      "outputs": []
    },
    {
      "cell_type": "code",
      "metadata": {
        "colab": {
          "base_uri": "https://localhost:8080/"
        },
        "id": "w_V7UBRmuKDp",
        "outputId": "d967487f-5dd4-42c7-9586-1d075152b299"
      },
      "source": [
        "X_train"
      ],
      "execution_count": null,
      "outputs": [
        {
          "output_type": "execute_result",
          "data": {
            "text/plain": [
              "array([[-1.00251953,  1.03162171, -1.40606109, -1.20517074],\n",
              "       [ 2.14105929, -0.10410861,  1.62428406,  1.19627649],\n",
              "       [-0.88161265,  1.03162171, -1.34888477, -1.33858448],\n",
              "       [ 0.20654925, -0.10410861,  0.59511023,  0.79603529],\n",
              "       [ 0.56926988, -1.23983894,  0.70946288,  0.92944902],\n",
              "       [-1.24433328,  0.12303745, -1.23453212, -1.33858448],\n",
              "       [-0.76070577,  0.80447565, -1.34888477, -1.33858448],\n",
              "       [-0.15617138,  3.0759363 , -1.29170844, -1.07175701],\n",
              "       [-0.15617138, -0.55840074,  0.42358126,  0.12896661],\n",
              "       [-0.88161265,  0.80447565, -1.29170844, -1.33858448],\n",
              "       [ 0.32745613, -0.10410861,  0.65228656,  0.79603529],\n",
              "       [ 0.20654925, -0.78554681,  0.7666392 ,  0.52920782],\n",
              "       [ 0.69017676, -0.55840074,  1.05252082,  1.32969023],\n",
              "       [ 0.56926988, -0.55840074,  0.7666392 ,  0.39579408],\n",
              "       [-0.88161265,  0.57732958, -1.1773558 , -0.93834327],\n",
              "       [ 2.26196617,  1.71305991,  1.68146038,  1.32969023],\n",
              "       [-1.12342641, -1.23983894,  0.42358126,  0.66262155],\n",
              "       [-0.27707826, -0.78554681,  0.25205229,  0.12896661],\n",
              "       [ 0.81108364, -0.10410861,  1.16687347,  1.32969023],\n",
              "       [-0.15617138, -1.01269287, -0.14818197, -0.27127459],\n",
              "       [ 0.32745613, -0.10410861,  0.48075759,  0.26238035],\n",
              "       [-1.00251953, -2.37556926, -0.14818197, -0.27127459],\n",
              "       [ 2.26196617, -1.01269287,  1.79581303,  1.46310396],\n",
              "       [-1.24433328,  0.80447565, -1.23453212, -1.33858448],\n",
              "       [-0.03526451,  2.16735204, -1.46323741, -1.33858448],\n",
              "       [-1.00251953,  1.25876778, -1.34888477, -1.33858448],\n",
              "       [-1.48614704,  1.25876778, -1.57759006, -1.33858448],\n",
              "       [-0.63979889,  1.48591384, -1.29170844, -1.33858448],\n",
              "       [ 0.56926988,  0.57732958,  0.53793391,  0.52920782],\n",
              "       [ 0.69017676, -0.33125468,  0.30922862,  0.12896661],\n",
              "       [-1.60705392, -1.69413107, -1.40606109, -1.20517074],\n",
              "       [-0.27707826, -0.10410861,  0.42358126,  0.39579408],\n",
              "       [-0.76070577,  1.03162171, -1.29170844, -1.33858448],\n",
              "       [ 1.05289739,  0.12303745,  0.53793391,  0.39579408],\n",
              "       [ 1.89924554, -0.55840074,  1.33840244,  0.92944902],\n",
              "       [-0.15617138, -0.10410861,  0.25205229, -0.00444712],\n",
              "       [-1.48614704,  0.80447565, -1.34888477, -1.20517074],\n",
              "       [-1.24433328, -0.10410861, -1.34888477, -1.47199821],\n",
              "       [ 0.32745613, -0.55840074,  0.13769965,  0.12896661],\n",
              "       [ 1.05289739,  0.12303745,  1.05252082,  1.5965177 ],\n",
              "       [ 0.448363  ,  0.80447565,  0.93816817,  1.46310396],\n",
              "       [ 0.56926988, -1.69413107,  0.36640494,  0.12896661],\n",
              "       [ 1.5365249 , -0.10410861,  1.22404979,  1.19627649],\n",
              "       [-0.03526451, -0.78554681,  0.19487597, -0.27127459],\n",
              "       [-1.72796079, -0.10410861, -1.40606109, -1.33858448],\n",
              "       [-0.39798514, -1.466985  , -0.03382932, -0.27127459],\n",
              "       [-1.12342641, -0.10410861, -1.34888477, -1.33858448],\n",
              "       [ 0.69017676, -0.78554681,  0.88099185,  0.92944902],\n",
              "       [-0.15617138, -0.55840074,  0.19487597,  0.12896661],\n",
              "       [-0.39798514,  2.62164417, -1.34888477, -1.33858448],\n",
              "       [-0.76070577, -0.78554681,  0.08052332,  0.26238035],\n",
              "       [ 0.81108364, -0.55840074,  0.48075759,  0.39579408],\n",
              "       [-0.51889202,  1.94020597, -1.1773558 , -1.07175701],\n",
              "       [-0.15617138, -0.33125468,  0.25205229,  0.12896661],\n",
              "       [ 1.77833866, -0.33125468,  1.45275509,  0.79603529],\n",
              "       [ 2.26196617, -0.10410861,  1.33840244,  1.46310396],\n",
              "       [-0.39798514, -1.69413107,  0.13769965,  0.12896661],\n",
              "       [ 0.20654925, -0.33125468,  0.42358126,  0.39579408],\n",
              "       [ 0.56926988,  0.57732958,  1.28122612,  1.72993143],\n",
              "       [-0.88161265,  1.48591384, -1.29170844, -1.07175701],\n",
              "       [-1.24433328,  0.80447565, -1.06300315, -1.33858448],\n",
              "       [-1.00251953,  0.57732958, -1.34888477, -1.33858448],\n",
              "       [ 0.56926988, -0.78554681,  0.65228656,  0.79603529],\n",
              "       [ 0.93199052, -0.10410861,  0.36640494,  0.26238035],\n",
              "       [-0.27707826, -0.33125468, -0.09100565,  0.12896661],\n",
              "       [ 0.20654925,  0.80447565,  0.42358126,  0.52920782],\n",
              "       [-0.51889202,  1.48591384, -1.29170844, -1.33858448],\n",
              "       [ 1.65743178,  1.25876778,  1.33840244,  1.72993143],\n",
              "       [-1.72796079, -0.33125468, -1.34888477, -1.33858448],\n",
              "       [-0.03526451, -0.78554681,  0.7666392 ,  0.92944902],\n",
              "       [-0.88161265,  1.03162171, -1.34888477, -1.20517074],\n",
              "       [ 0.69017676,  0.35018352,  0.88099185,  1.46310396],\n",
              "       [ 0.56926988,  0.80447565,  1.05252082,  1.5965177 ],\n",
              "       [ 0.32745613, -0.55840074,  0.53793391, -0.00444712],\n",
              "       [ 0.448363  , -0.55840074,  0.59511023,  0.79603529],\n",
              "       [ 2.26196617, -0.55840074,  1.68146038,  1.06286276],\n",
              "       [-1.12342641,  0.12303745, -1.29170844, -1.47199821],\n",
              "       [ 0.69017676,  0.12303745,  0.9953445 ,  0.79603529],\n",
              "       [-0.27707826, -0.55840074,  0.65228656,  1.06286276],\n",
              "       [-0.39798514, -1.01269287,  0.36640494, -0.00444712],\n",
              "       [-0.51889202, -0.10410861,  0.42358126,  0.39579408],\n",
              "       [-1.24433328, -0.10410861, -1.34888477, -1.20517074],\n",
              "       [ 0.81108364, -0.10410861,  0.9953445 ,  0.79603529],\n",
              "       [ 1.65743178, -0.10410861,  1.16687347,  0.52920782],\n",
              "       [ 0.20654925, -1.92127713,  0.13769965, -0.27127459],\n",
              "       [ 0.81108364, -0.10410861,  0.82381553,  1.06286276],\n",
              "       [-1.12342641, -1.466985  , -0.26253462, -0.27127459],\n",
              "       [-0.88161265, -1.23983894, -0.43406359, -0.13786086],\n",
              "       [ 1.29471115,  0.35018352,  1.10969715,  1.46310396],\n",
              "       [ 1.05289739, -1.23983894,  1.16687347,  0.79603529],\n",
              "       [ 0.08564237,  0.35018352,  0.59511023,  0.79603529],\n",
              "       [ 0.448363  , -1.92127713,  0.42358126,  0.39579408],\n",
              "       [-0.51889202,  1.94020597, -1.40606109, -1.07175701],\n",
              "       [ 1.05289739, -0.10410861,  0.82381553,  1.46310396],\n",
              "       [-1.48614704,  0.12303745, -1.29170844, -1.33858448],\n",
              "       [-1.00251953,  1.03162171, -1.23453212, -0.80492954],\n",
              "       [-0.88161265,  1.71305991, -1.23453212, -1.33858448],\n",
              "       [-0.03526451, -0.78554681,  0.7666392 ,  0.92944902],\n",
              "       [ 0.69017676,  0.35018352,  0.42358126,  0.39579408],\n",
              "       [-0.39798514,  1.03162171, -1.40606109, -1.33858448],\n",
              "       [-0.88161265,  1.71305991, -1.29170844, -1.20517074],\n",
              "       [ 1.29471115,  0.12303745,  0.7666392 ,  1.46310396],\n",
              "       [-1.12342641,  0.12303745, -1.29170844, -1.47199821],\n",
              "       [-0.27707826, -0.10410861,  0.19487597,  0.12896661],\n",
              "       [ 1.29471115,  0.12303745,  0.65228656,  0.39579408],\n",
              "       [ 0.56926988, -0.33125468,  1.05252082,  0.79603529],\n",
              "       [ 1.05289739,  0.12303745,  0.36640494,  0.26238035],\n",
              "       [-0.27707826, -1.23983894,  0.08052332, -0.13786086],\n",
              "       [-1.00251953, -0.10410861, -1.23453212, -1.33858448],\n",
              "       [-0.15617138, -1.23983894,  0.70946288,  1.06286276],\n",
              "       [-0.03526451, -1.01269287,  0.13769965, -0.00444712],\n",
              "       [-1.36524016,  0.35018352, -1.23453212, -1.33858448],\n",
              "       [ 0.448363  , -0.33125468,  0.30922862,  0.12896661],\n",
              "       [-1.72796079,  0.35018352, -1.40606109, -1.33858448],\n",
              "       [-0.39798514, -1.466985  ,  0.023347  , -0.13786086],\n",
              "       [ 0.81108364,  0.35018352,  0.7666392 ,  1.06286276],\n",
              "       [-0.51889202,  0.80447565, -1.29170844, -1.07175701],\n",
              "       [-1.00251953, -1.69413107, -0.26253462, -0.27127459],\n",
              "       [ 0.08564237, -0.10410861,  0.7666392 ,  0.79603529],\n",
              "       [ 2.50377993,  1.71305991,  1.50993141,  1.06286276]])"
            ]
          },
          "metadata": {},
          "execution_count": 31
        }
      ]
    },
    {
      "cell_type": "code",
      "metadata": {
        "colab": {
          "base_uri": "https://localhost:8080/"
        },
        "id": "Ohe5h1SquKF5",
        "outputId": "c11cbaf6-2f6b-44b5-d2e3-f34457750a20"
      },
      "source": [
        "#Fitting Naive Bayes Classification to Training Set with Linear Kernel\n",
        "from sklearn.naive_bayes import GaussianNB\n",
        "nvclassifier = GaussianNB()\n",
        "nvclassifier.fit(X_train,y_train)"
      ],
      "execution_count": null,
      "outputs": [
        {
          "output_type": "execute_result",
          "data": {
            "text/plain": [
              "GaussianNB()"
            ]
          },
          "metadata": {},
          "execution_count": 32
        }
      ]
    },
    {
      "cell_type": "code",
      "metadata": {
        "colab": {
          "base_uri": "https://localhost:8080/"
        },
        "id": "0Jqg1tn4uKJ8",
        "outputId": "76fdff26-84db-46b2-c84b-775332b6feb8"
      },
      "source": [
        "#Predicting the Test set results\n",
        "y_pred = nvclassifier.predict(X_test)\n",
        "print(y_pred)"
      ],
      "execution_count": null,
      "outputs": [
        {
          "output_type": "stream",
          "name": "stdout",
          "text": [
            "['virginica' 'virginica' 'setosa' 'setosa' 'setosa' 'virginica'\n",
            " 'versicolor' 'versicolor' 'versicolor' 'versicolor' 'versicolor'\n",
            " 'virginica' 'setosa' 'setosa' 'setosa' 'setosa' 'virginica' 'versicolor'\n",
            " 'setosa' 'versicolor' 'setosa' 'virginica' 'setosa' 'virginica'\n",
            " 'virginica' 'versicolor' 'virginica' 'setosa' 'virginica' 'versicolor']\n"
          ]
        }
      ]
    },
    {
      "cell_type": "code",
      "metadata": {
        "colab": {
          "base_uri": "https://localhost:8080/"
        },
        "id": "gpRfhg6RuKMw",
        "outputId": "2719f159-61fe-4324-8219-5eb6d72c0bd2"
      },
      "source": [
        "#Lets see the actual and pridicted value side by side\n",
        "y_compare = np.vstack((y_test,y_pred)).T\n",
        "y_compare[:5,:]"
      ],
      "execution_count": null,
      "outputs": [
        {
          "output_type": "execute_result",
          "data": {
            "text/plain": [
              "array([['virginica', 'virginica'],\n",
              "       ['virginica', 'virginica'],\n",
              "       ['setosa', 'setosa'],\n",
              "       ['setosa', 'setosa'],\n",
              "       ['setosa', 'setosa']], dtype=object)"
            ]
          },
          "metadata": {},
          "execution_count": 34
        }
      ]
    },
    {
      "cell_type": "code",
      "metadata": {
        "colab": {
          "base_uri": "https://localhost:8080/"
        },
        "id": "xL1CUjeWv6ON",
        "outputId": "01464a0c-548e-45d9-f127-826329e3e01b"
      },
      "source": [
        "# Confusion Matrix\n",
        "from sklearn.metrics import confusion_matrix\n",
        "cm = confusion_matrix(y_test,y_pred)\n",
        "print(cm)"
      ],
      "execution_count": null,
      "outputs": [
        {
          "output_type": "stream",
          "name": "stdout",
          "text": [
            "[[11  0  0]\n",
            " [ 0  8  1]\n",
            " [ 0  1  9]]\n"
          ]
        }
      ]
    },
    {
      "cell_type": "code",
      "metadata": {
        "colab": {
          "base_uri": "https://localhost:8080/"
        },
        "id": "PM3fCTsRv6S-",
        "outputId": "ed072316-f74e-4b0c-e702-3b2753f99d6a"
      },
      "source": [
        "#finding accuracy from the confusion matrix.\n",
        "a = cm.shape\n",
        "corrPred = 0\n",
        "falsePred = 0\n",
        "\n",
        "for row in range(a[0]):\n",
        "    for c in range(a[1]):\n",
        "        if row == c:\n",
        "            corrPred +=cm[row,c]\n",
        "        else:\n",
        "            falsePred += cm[row,c]\n",
        "print('Correct predictions: ', corrPred)\n",
        "print('False predictions', falsePred)\n",
        "print ('Accuracy of the Naive Bayes classification is: ', corrPred/(cm.sum()))     "
      ],
      "execution_count": null,
      "outputs": [
        {
          "output_type": "stream",
          "name": "stdout",
          "text": [
            "Correct predictions:  28\n",
            "False predictions 2\n",
            "Accuracy of the Naive Bayes classification is:  0.9333333333333333\n"
          ]
        }
      ]
    },
    {
      "cell_type": "markdown",
      "metadata": {
        "id": "M4qTQ8phw73E"
      },
      "source": [
        "##Q.3"
      ]
    },
    {
      "cell_type": "code",
      "metadata": {
        "id": "7hxsmHTBv6Ve"
      },
      "source": [
        "import numpy as np\n",
        "import pandas as pd\n",
        "import matplotlib.pyplot as plt\n",
        "import seaborn as sns\n",
        "from sklearn import metrics"
      ],
      "execution_count": null,
      "outputs": []
    },
    {
      "cell_type": "code",
      "metadata": {
        "id": "4vGystauv6X_"
      },
      "source": [
        "df =  pd.read_csv('iris.csv')"
      ],
      "execution_count": null,
      "outputs": []
    },
    {
      "cell_type": "code",
      "metadata": {
        "id": "d4ORlHdAv6e9",
        "colab": {
          "base_uri": "https://localhost:8080/",
          "height": 206
        },
        "outputId": "41c8e125-2048-41d6-c47b-8757465070c7"
      },
      "source": [
        "df.head()"
      ],
      "execution_count": null,
      "outputs": [
        {
          "output_type": "execute_result",
          "data": {
            "text/html": [
              "<div>\n",
              "<style scoped>\n",
              "    .dataframe tbody tr th:only-of-type {\n",
              "        vertical-align: middle;\n",
              "    }\n",
              "\n",
              "    .dataframe tbody tr th {\n",
              "        vertical-align: top;\n",
              "    }\n",
              "\n",
              "    .dataframe thead th {\n",
              "        text-align: right;\n",
              "    }\n",
              "</style>\n",
              "<table border=\"1\" class=\"dataframe\">\n",
              "  <thead>\n",
              "    <tr style=\"text-align: right;\">\n",
              "      <th></th>\n",
              "      <th>sepal_length</th>\n",
              "      <th>sepal_width</th>\n",
              "      <th>petal_length</th>\n",
              "      <th>petal_width</th>\n",
              "      <th>species</th>\n",
              "    </tr>\n",
              "  </thead>\n",
              "  <tbody>\n",
              "    <tr>\n",
              "      <th>0</th>\n",
              "      <td>5.1</td>\n",
              "      <td>3.5</td>\n",
              "      <td>1.4</td>\n",
              "      <td>0.2</td>\n",
              "      <td>setosa</td>\n",
              "    </tr>\n",
              "    <tr>\n",
              "      <th>1</th>\n",
              "      <td>4.9</td>\n",
              "      <td>3.0</td>\n",
              "      <td>1.4</td>\n",
              "      <td>0.2</td>\n",
              "      <td>setosa</td>\n",
              "    </tr>\n",
              "    <tr>\n",
              "      <th>2</th>\n",
              "      <td>4.7</td>\n",
              "      <td>3.2</td>\n",
              "      <td>1.3</td>\n",
              "      <td>0.2</td>\n",
              "      <td>setosa</td>\n",
              "    </tr>\n",
              "    <tr>\n",
              "      <th>3</th>\n",
              "      <td>4.6</td>\n",
              "      <td>3.1</td>\n",
              "      <td>1.5</td>\n",
              "      <td>0.2</td>\n",
              "      <td>setosa</td>\n",
              "    </tr>\n",
              "    <tr>\n",
              "      <th>4</th>\n",
              "      <td>5.0</td>\n",
              "      <td>3.6</td>\n",
              "      <td>1.4</td>\n",
              "      <td>0.2</td>\n",
              "      <td>setosa</td>\n",
              "    </tr>\n",
              "  </tbody>\n",
              "</table>\n",
              "</div>"
            ],
            "text/plain": [
              "   sepal_length  sepal_width  petal_length  petal_width species\n",
              "0           5.1          3.5           1.4          0.2  setosa\n",
              "1           4.9          3.0           1.4          0.2  setosa\n",
              "2           4.7          3.2           1.3          0.2  setosa\n",
              "3           4.6          3.1           1.5          0.2  setosa\n",
              "4           5.0          3.6           1.4          0.2  setosa"
            ]
          },
          "metadata": {},
          "execution_count": 3
        }
      ]
    },
    {
      "cell_type": "code",
      "metadata": {
        "id": "E5uBCWeNv6hB",
        "colab": {
          "base_uri": "https://localhost:8080/"
        },
        "outputId": "b30f70b7-2000-4a41-bbb3-0d5114705d57"
      },
      "source": [
        "df.info()"
      ],
      "execution_count": null,
      "outputs": [
        {
          "output_type": "stream",
          "name": "stdout",
          "text": [
            "<class 'pandas.core.frame.DataFrame'>\n",
            "RangeIndex: 150 entries, 0 to 149\n",
            "Data columns (total 5 columns):\n",
            " #   Column        Non-Null Count  Dtype  \n",
            "---  ------        --------------  -----  \n",
            " 0   sepal_length  150 non-null    float64\n",
            " 1   sepal_width   150 non-null    float64\n",
            " 2   petal_length  150 non-null    float64\n",
            " 3   petal_width   150 non-null    float64\n",
            " 4   species       150 non-null    object \n",
            "dtypes: float64(4), object(1)\n",
            "memory usage: 6.0+ KB\n"
          ]
        }
      ]
    },
    {
      "cell_type": "code",
      "metadata": {
        "colab": {
          "base_uri": "https://localhost:8080/",
          "height": 300
        },
        "id": "OBR_aqhZY5nW",
        "outputId": "2ee0ad86-6b5a-427f-feee-6a2fd82f95dd"
      },
      "source": [
        "sns.scatterplot(x='sepal_length', y='sepal_width',hue='species',data = df,alpha=0.7)"
      ],
      "execution_count": null,
      "outputs": [
        {
          "output_type": "execute_result",
          "data": {
            "text/plain": [
              "<matplotlib.axes._subplots.AxesSubplot at 0x7fb33fd44810>"
            ]
          },
          "metadata": {},
          "execution_count": 5
        },
        {
          "output_type": "display_data",
          "data": {
            "image/png": "[encoded data removed]",
            "text/plain": [
              "<Figure size 432x288 with 1 Axes>"
            ]
          },
          "metadata": {
            "needs_background": "light"
          }
        }
      ]
    },
    {
      "cell_type": "code",
      "metadata": {
        "colab": {
          "base_uri": "https://localhost:8080/",
          "height": 302
        },
        "id": "wUgY-N9FY8MV",
        "outputId": "b9b5fc26-6cc8-47dc-f783-7b381e22d549"
      },
      "source": [
        "sns.scatterplot(x='sepal_length',y='sepal_width',hue='species',data=df)\n",
        "plt.xlim(4.5,7.5)\n",
        "plt.ylim(2.5,4)"
      ],
      "execution_count": null,
      "outputs": [
        {
          "output_type": "execute_result",
          "data": {
            "text/plain": [
              "(2.5, 4.0)"
            ]
          },
          "metadata": {},
          "execution_count": 6
        },
        {
          "output_type": "display_data",
          "data": {
            "image/png": "[encoded data removed]",
            "text/plain": [
              "<Figure size 432x288 with 1 Axes>"
            ]
          },
          "metadata": {
            "needs_background": "light"
          }
        }
      ]
    },
    {
      "cell_type": "code",
      "metadata": {
        "colab": {
          "base_uri": "https://localhost:8080/"
        },
        "id": "tvdfYmClZ8YU",
        "outputId": "9047ad36-ce0a-45d3-f24d-b0afb8b56eb5"
      },
      "source": [
        "from sklearn.neighbors import KNeighborsClassifier\n",
        "knn = KNeighborsClassifier(n_neighbors=1)\n",
        "knn.fit(X_train,y_train)\n",
        "y_pred = knn.predict(X_test)\n",
        "print(metrics.accuracy_score(y_test, y_pred))"
      ],
      "execution_count": null,
      "outputs": [
        {
          "output_type": "stream",
          "name": "stdout",
          "text": [
            "1.0\n"
          ]
        }
      ]
    },
    {
      "cell_type": "code",
      "metadata": {
        "id": "mF5GwQaSY92o"
      },
      "source": [
        "from sklearn.model_selection import train_test_split\n",
        "from sklearn.preprocessing import StandardScaler"
      ],
      "execution_count": null,
      "outputs": []
    },
    {
      "cell_type": "code",
      "metadata": {
        "id": "P_1U-c9-ZAx1"
      },
      "source": [
        "X = df.drop('species',axis=1)\n",
        "y = df['species']"
      ],
      "execution_count": null,
      "outputs": []
    },
    {
      "cell_type": "code",
      "metadata": {
        "id": "vMMV-LCSZCOh"
      },
      "source": [
        "X_train, X_test, y_train, y_test = train_test_split( X, y, test_size=0.3, random_state=42)"
      ],
      "execution_count": null,
      "outputs": []
    },
    {
      "cell_type": "code",
      "metadata": {
        "id": "Qkz09iJNZDzD"
      },
      "source": [
        "scaler = StandardScaler()"
      ],
      "execution_count": null,
      "outputs": []
    },
    {
      "cell_type": "code",
      "metadata": {
        "id": "25AR9cXzZEY_"
      },
      "source": [
        "scaled_X_train = scaler.fit_transform(X_train)\n",
        "scaled_X_test = scaler.transform(X_test)"
      ],
      "execution_count": null,
      "outputs": []
    },
    {
      "cell_type": "code",
      "metadata": {
        "id": "cwa1Zoa1ZEbY"
      },
      "source": [
        "from sklearn.model_selection import GridSearchCV"
      ],
      "execution_count": null,
      "outputs": []
    },
    {
      "cell_type": "code",
      "metadata": {
        "colab": {
          "base_uri": "https://localhost:8080/"
        },
        "id": "IYXe3k6HZEeN",
        "outputId": "63b33cf1-e7a7-43c9-fd24-1d3b918783b1"
      },
      "source": [
        "k_range = list(range(1, 31))\n",
        "print(k_range)"
      ],
      "execution_count": null,
      "outputs": [
        {
          "output_type": "stream",
          "name": "stdout",
          "text": [
            "[1, 2, 3, 4, 5, 6, 7, 8, 9, 10, 11, 12, 13, 14, 15, 16, 17, 18, 19, 20, 21, 22, 23, 24, 25, 26, 27, 28, 29, 30]\n"
          ]
        }
      ]
    },
    {
      "cell_type": "code",
      "metadata": {
        "colab": {
          "base_uri": "https://localhost:8080/"
        },
        "id": "rsl3DArBZEgo",
        "outputId": "8988880a-8722-4b84-a94c-b6b62277e4c3"
      },
      "source": [
        "param_grid = dict(n_neighbors=k_range)\n",
        "print(param_grid)"
      ],
      "execution_count": null,
      "outputs": [
        {
          "output_type": "stream",
          "name": "stdout",
          "text": [
            "{'n_neighbors': [1, 2, 3, 4, 5, 6, 7, 8, 9, 10, 11, 12, 13, 14, 15, 16, 17, 18, 19, 20, 21, 22, 23, 24, 25, 26, 27, 28, 29, 30]}\n"
          ]
        }
      ]
    },
    {
      "cell_type": "code",
      "metadata": {
        "colab": {
          "base_uri": "https://localhost:8080/"
        },
        "id": "p736EYjwZeRi",
        "outputId": "d3a879b4-fad6-4fd4-9702-fbd0511d53fd"
      },
      "source": [
        "grid = GridSearchCV(knn, param_grid, cv=10, scoring='accuracy', return_train_score=False)\n",
        "grid.fit(X, y)"
      ],
      "execution_count": null,
      "outputs": [
        {
          "output_type": "execute_result",
          "data": {
            "text/plain": [
              "GridSearchCV(cv=10, estimator=KNeighborsClassifier(n_neighbors=1),\n",
              "             param_grid={'n_neighbors': [1, 2, 3, 4, 5, 6, 7, 8, 9, 10, 11, 12,\n",
              "                                         13, 14, 15, 16, 17, 18, 19, 20, 21, 22,\n",
              "                                         23, 24, 25, 26, 27, 28, 29, 30]},\n",
              "             scoring='accuracy')"
            ]
          },
          "metadata": {},
          "execution_count": 19
        }
      ]
    },
    {
      "cell_type": "code",
      "metadata": {
        "colab": {
          "base_uri": "https://localhost:8080/"
        },
        "id": "WYePj6rOZeto",
        "outputId": "7343438c-80fa-49da-b98e-b5707d79e604"
      },
      "source": [
        "grid_mean_scores = grid.cv_results_['mean_test_score']\n",
        "print(grid_mean_scores)"
      ],
      "execution_count": null,
      "outputs": [
        {
          "output_type": "stream",
          "name": "stdout",
          "text": [
            "[0.96       0.95333333 0.96666667 0.96666667 0.96666667 0.96666667\n",
            " 0.96666667 0.96666667 0.97333333 0.96666667 0.96666667 0.97333333\n",
            " 0.98       0.97333333 0.97333333 0.97333333 0.97333333 0.98\n",
            " 0.97333333 0.98       0.96666667 0.96666667 0.97333333 0.96\n",
            " 0.96666667 0.96       0.96666667 0.95333333 0.95333333 0.95333333]\n"
          ]
        }
      ]
    },
    {
      "cell_type": "code",
      "metadata": {
        "colab": {
          "base_uri": "https://localhost:8080/",
          "height": 297
        },
        "id": "o6K9SErtZewY",
        "outputId": "2af20494-7eee-46c9-f2ff-f4859d02a75d"
      },
      "source": [
        "plt.plot(k_range, grid_mean_scores)\n",
        "plt.xlabel('Value of K for KNN')\n",
        "plt.ylabel('Cross-Validated Accuracy')"
      ],
      "execution_count": null,
      "outputs": [
        {
          "output_type": "execute_result",
          "data": {
            "text/plain": [
              "Text(0, 0.5, 'Cross-Validated Accuracy')"
            ]
          },
          "metadata": {},
          "execution_count": 21
        },
        {
          "output_type": "display_data",
          "data": {
            "image/png": "[encoded data removed]",
            "text/plain": [
              "<Figure size 432x288 with 1 Axes>"
            ]
          },
          "metadata": {
            "needs_background": "light"
          }
        }
      ]
    },
    {
      "cell_type": "code",
      "metadata": {
        "colab": {
          "base_uri": "https://localhost:8080/"
        },
        "id": "g4OJOaG7ZezE",
        "outputId": "4540309b-5945-4846-ad6d-5b7171be2207"
      },
      "source": [
        "print(grid.best_score_)\n",
        "print(grid.best_params_)\n",
        "print(grid.best_estimator_)"
      ],
      "execution_count": null,
      "outputs": [
        {
          "output_type": "stream",
          "name": "stdout",
          "text": [
            "0.9800000000000001\n",
            "{'n_neighbors': 13}\n",
            "KNeighborsClassifier(n_neighbors=13)\n"
          ]
        }
      ]
    },
    {
      "cell_type": "code",
      "metadata": {
        "colab": {
          "base_uri": "https://localhost:8080/"
        },
        "id": "uBYa-kfgZe1J",
        "outputId": "7cdf8c46-5ed2-4e7c-807f-589eb2f8e1db"
      },
      "source": [
        "k_range = list(range(1, 31))\n",
        "weight_options = ['uniform', 'distance']\n",
        "param_grid = dict(n_neighbors=k_range, weights=weight_options)\n",
        "print(param_grid)"
      ],
      "execution_count": null,
      "outputs": [
        {
          "output_type": "stream",
          "name": "stdout",
          "text": [
            "{'n_neighbors': [1, 2, 3, 4, 5, 6, 7, 8, 9, 10, 11, 12, 13, 14, 15, 16, 17, 18, 19, 20, 21, 22, 23, 24, 25, 26, 27, 28, 29, 30], 'weights': ['uniform', 'distance']}\n"
          ]
        }
      ]
    },
    {
      "cell_type": "code",
      "metadata": {
        "colab": {
          "base_uri": "https://localhost:8080/"
        },
        "id": "8aEqzV8TZe3j",
        "outputId": "0ea5e815-20d9-48a1-84ee-812824b4d666"
      },
      "source": [
        "grid = GridSearchCV(knn, param_grid, cv=10, scoring='accuracy', return_train_score=False)\n",
        "grid.fit(X, y)"
      ],
      "execution_count": null,
      "outputs": [
        {
          "output_type": "execute_result",
          "data": {
            "text/plain": [
              "GridSearchCV(cv=10, estimator=KNeighborsClassifier(n_neighbors=1),\n",
              "             param_grid={'n_neighbors': [1, 2, 3, 4, 5, 6, 7, 8, 9, 10, 11, 12,\n",
              "                                         13, 14, 15, 16, 17, 18, 19, 20, 21, 22,\n",
              "                                         23, 24, 25, 26, 27, 28, 29, 30],\n",
              "                         'weights': ['uniform', 'distance']},\n",
              "             scoring='accuracy')"
            ]
          },
          "metadata": {},
          "execution_count": 24
        }
      ]
    },
    {
      "cell_type": "code",
      "metadata": {
        "colab": {
          "base_uri": "https://localhost:8080/",
          "height": 1000
        },
        "id": "MJ2Nb3pwZe6I",
        "outputId": "786d8a5f-4769-4583-9caf-e202afd62c43"
      },
      "source": [
        "pd.DataFrame(grid.cv_results_)[['mean_test_score', 'std_test_score', 'params']]"
      ],
      "execution_count": null,
      "outputs": [
        {
          "output_type": "execute_result",
          "data": {
            "text/html": [
              "<div>\n",
              "<style scoped>\n",
              "    .dataframe tbody tr th:only-of-type {\n",
              "        vertical-align: middle;\n",
              "    }\n",
              "\n",
              "    .dataframe tbody tr th {\n",
              "        vertical-align: top;\n",
              "    }\n",
              "\n",
              "    .dataframe thead th {\n",
              "        text-align: right;\n",
              "    }\n",
              "</style>\n",
              "<table border=\"1\" class=\"dataframe\">\n",
              "  <thead>\n",
              "    <tr style=\"text-align: right;\">\n",
              "      <th></th>\n",
              "      <th>mean_test_score</th>\n",
              "      <th>std_test_score</th>\n",
              "      <th>params</th>\n",
              "    </tr>\n",
              "  </thead>\n",
              "  <tbody>\n",
              "    <tr>\n",
              "      <th>0</th>\n",
              "      <td>0.960000</td>\n",
              "      <td>0.053333</td>\n",
              "      <td>{'n_neighbors': 1, 'weights': 'uniform'}</td>\n",
              "    </tr>\n",
              "    <tr>\n",
              "      <th>1</th>\n",
              "      <td>0.960000</td>\n",
              "      <td>0.053333</td>\n",
              "      <td>{'n_neighbors': 1, 'weights': 'distance'}</td>\n",
              "    </tr>\n",
              "    <tr>\n",
              "      <th>2</th>\n",
              "      <td>0.953333</td>\n",
              "      <td>0.052068</td>\n",
              "      <td>{'n_neighbors': 2, 'weights': 'uniform'}</td>\n",
              "    </tr>\n",
              "    <tr>\n",
              "      <th>3</th>\n",
              "      <td>0.960000</td>\n",
              "      <td>0.053333</td>\n",
              "      <td>{'n_neighbors': 2, 'weights': 'distance'}</td>\n",
              "    </tr>\n",
              "    <tr>\n",
              "      <th>4</th>\n",
              "      <td>0.966667</td>\n",
              "      <td>0.044721</td>\n",
              "      <td>{'n_neighbors': 3, 'weights': 'uniform'}</td>\n",
              "    </tr>\n",
              "    <tr>\n",
              "      <th>5</th>\n",
              "      <td>0.966667</td>\n",
              "      <td>0.044721</td>\n",
              "      <td>{'n_neighbors': 3, 'weights': 'distance'}</td>\n",
              "    </tr>\n",
              "    <tr>\n",
              "      <th>6</th>\n",
              "      <td>0.966667</td>\n",
              "      <td>0.044721</td>\n",
              "      <td>{'n_neighbors': 4, 'weights': 'uniform'}</td>\n",
              "    </tr>\n",
              "    <tr>\n",
              "      <th>7</th>\n",
              "      <td>0.966667</td>\n",
              "      <td>0.044721</td>\n",
              "      <td>{'n_neighbors': 4, 'weights': 'distance'}</td>\n",
              "    </tr>\n",
              "    <tr>\n",
              "      <th>8</th>\n",
              "      <td>0.966667</td>\n",
              "      <td>0.044721</td>\n",
              "      <td>{'n_neighbors': 5, 'weights': 'uniform'}</td>\n",
              "    </tr>\n",
              "    <tr>\n",
              "      <th>9</th>\n",
              "      <td>0.966667</td>\n",
              "      <td>0.044721</td>\n",
              "      <td>{'n_neighbors': 5, 'weights': 'distance'}</td>\n",
              "    </tr>\n",
              "    <tr>\n",
              "      <th>10</th>\n",
              "      <td>0.966667</td>\n",
              "      <td>0.044721</td>\n",
              "      <td>{'n_neighbors': 6, 'weights': 'uniform'}</td>\n",
              "    </tr>\n",
              "    <tr>\n",
              "      <th>11</th>\n",
              "      <td>0.966667</td>\n",
              "      <td>0.044721</td>\n",
              "      <td>{'n_neighbors': 6, 'weights': 'distance'}</td>\n",
              "    </tr>\n",
              "    <tr>\n",
              "      <th>12</th>\n",
              "      <td>0.966667</td>\n",
              "      <td>0.044721</td>\n",
              "      <td>{'n_neighbors': 7, 'weights': 'uniform'}</td>\n",
              "    </tr>\n",
              "    <tr>\n",
              "      <th>13</th>\n",
              "      <td>0.966667</td>\n",
              "      <td>0.044721</td>\n",
              "      <td>{'n_neighbors': 7, 'weights': 'distance'}</td>\n",
              "    </tr>\n",
              "    <tr>\n",
              "      <th>14</th>\n",
              "      <td>0.966667</td>\n",
              "      <td>0.044721</td>\n",
              "      <td>{'n_neighbors': 8, 'weights': 'uniform'}</td>\n",
              "    </tr>\n",
              "    <tr>\n",
              "      <th>15</th>\n",
              "      <td>0.966667</td>\n",
              "      <td>0.044721</td>\n",
              "      <td>{'n_neighbors': 8, 'weights': 'distance'}</td>\n",
              "    </tr>\n",
              "    <tr>\n",
              "      <th>16</th>\n",
              "      <td>0.973333</td>\n",
              "      <td>0.032660</td>\n",
              "      <td>{'n_neighbors': 9, 'weights': 'uniform'}</td>\n",
              "    </tr>\n",
              "    <tr>\n",
              "      <th>17</th>\n",
              "      <td>0.973333</td>\n",
              "      <td>0.032660</td>\n",
              "      <td>{'n_neighbors': 9, 'weights': 'distance'}</td>\n",
              "    </tr>\n",
              "    <tr>\n",
              "      <th>18</th>\n",
              "      <td>0.966667</td>\n",
              "      <td>0.044721</td>\n",
              "      <td>{'n_neighbors': 10, 'weights': 'uniform'}</td>\n",
              "    </tr>\n",
              "    <tr>\n",
              "      <th>19</th>\n",
              "      <td>0.973333</td>\n",
              "      <td>0.032660</td>\n",
              "      <td>{'n_neighbors': 10, 'weights': 'distance'}</td>\n",
              "    </tr>\n",
              "    <tr>\n",
              "      <th>20</th>\n",
              "      <td>0.966667</td>\n",
              "      <td>0.044721</td>\n",
              "      <td>{'n_neighbors': 11, 'weights': 'uniform'}</td>\n",
              "    </tr>\n",
              "    <tr>\n",
              "      <th>21</th>\n",
              "      <td>0.973333</td>\n",
              "      <td>0.032660</td>\n",
              "      <td>{'n_neighbors': 11, 'weights': 'distance'}</td>\n",
              "    </tr>\n",
              "    <tr>\n",
              "      <th>22</th>\n",
              "      <td>0.973333</td>\n",
              "      <td>0.032660</td>\n",
              "      <td>{'n_neighbors': 12, 'weights': 'uniform'}</td>\n",
              "    </tr>\n",
              "    <tr>\n",
              "      <th>23</th>\n",
              "      <td>0.973333</td>\n",
              "      <td>0.044222</td>\n",
              "      <td>{'n_neighbors': 12, 'weights': 'distance'}</td>\n",
              "    </tr>\n",
              "    <tr>\n",
              "      <th>24</th>\n",
              "      <td>0.980000</td>\n",
              "      <td>0.030551</td>\n",
              "      <td>{'n_neighbors': 13, 'weights': 'uniform'}</td>\n",
              "    </tr>\n",
              "    <tr>\n",
              "      <th>25</th>\n",
              "      <td>0.973333</td>\n",
              "      <td>0.032660</td>\n",
              "      <td>{'n_neighbors': 13, 'weights': 'distance'}</td>\n",
              "    </tr>\n",
              "    <tr>\n",
              "      <th>26</th>\n",
              "      <td>0.973333</td>\n",
              "      <td>0.044222</td>\n",
              "      <td>{'n_neighbors': 14, 'weights': 'uniform'}</td>\n",
              "    </tr>\n",
              "    <tr>\n",
              "      <th>27</th>\n",
              "      <td>0.973333</td>\n",
              "      <td>0.032660</td>\n",
              "      <td>{'n_neighbors': 14, 'weights': 'distance'}</td>\n",
              "    </tr>\n",
              "    <tr>\n",
              "      <th>28</th>\n",
              "      <td>0.973333</td>\n",
              "      <td>0.032660</td>\n",
              "      <td>{'n_neighbors': 15, 'weights': 'uniform'}</td>\n",
              "    </tr>\n",
              "    <tr>\n",
              "      <th>29</th>\n",
              "      <td>0.980000</td>\n",
              "      <td>0.030551</td>\n",
              "      <td>{'n_neighbors': 15, 'weights': 'distance'}</td>\n",
              "    </tr>\n",
              "    <tr>\n",
              "      <th>30</th>\n",
              "      <td>0.973333</td>\n",
              "      <td>0.032660</td>\n",
              "      <td>{'n_neighbors': 16, 'weights': 'uniform'}</td>\n",
              "    </tr>\n",
              "    <tr>\n",
              "      <th>31</th>\n",
              "      <td>0.973333</td>\n",
              "      <td>0.032660</td>\n",
              "      <td>{'n_neighbors': 16, 'weights': 'distance'}</td>\n",
              "    </tr>\n",
              "    <tr>\n",
              "      <th>32</th>\n",
              "      <td>0.973333</td>\n",
              "      <td>0.032660</td>\n",
              "      <td>{'n_neighbors': 17, 'weights': 'uniform'}</td>\n",
              "    </tr>\n",
              "    <tr>\n",
              "      <th>33</th>\n",
              "      <td>0.980000</td>\n",
              "      <td>0.030551</td>\n",
              "      <td>{'n_neighbors': 17, 'weights': 'distance'}</td>\n",
              "    </tr>\n",
              "    <tr>\n",
              "      <th>34</th>\n",
              "      <td>0.980000</td>\n",
              "      <td>0.030551</td>\n",
              "      <td>{'n_neighbors': 18, 'weights': 'uniform'}</td>\n",
              "    </tr>\n",
              "    <tr>\n",
              "      <th>35</th>\n",
              "      <td>0.973333</td>\n",
              "      <td>0.032660</td>\n",
              "      <td>{'n_neighbors': 18, 'weights': 'distance'}</td>\n",
              "    </tr>\n",
              "    <tr>\n",
              "      <th>36</th>\n",
              "      <td>0.973333</td>\n",
              "      <td>0.032660</td>\n",
              "      <td>{'n_neighbors': 19, 'weights': 'uniform'}</td>\n",
              "    </tr>\n",
              "    <tr>\n",
              "      <th>37</th>\n",
              "      <td>0.980000</td>\n",
              "      <td>0.030551</td>\n",
              "      <td>{'n_neighbors': 19, 'weights': 'distance'}</td>\n",
              "    </tr>\n",
              "    <tr>\n",
              "      <th>38</th>\n",
              "      <td>0.980000</td>\n",
              "      <td>0.030551</td>\n",
              "      <td>{'n_neighbors': 20, 'weights': 'uniform'}</td>\n",
              "    </tr>\n",
              "    <tr>\n",
              "      <th>39</th>\n",
              "      <td>0.966667</td>\n",
              "      <td>0.044721</td>\n",
              "      <td>{'n_neighbors': 20, 'weights': 'distance'}</td>\n",
              "    </tr>\n",
              "    <tr>\n",
              "      <th>40</th>\n",
              "      <td>0.966667</td>\n",
              "      <td>0.033333</td>\n",
              "      <td>{'n_neighbors': 21, 'weights': 'uniform'}</td>\n",
              "    </tr>\n",
              "    <tr>\n",
              "      <th>41</th>\n",
              "      <td>0.966667</td>\n",
              "      <td>0.044721</td>\n",
              "      <td>{'n_neighbors': 21, 'weights': 'distance'}</td>\n",
              "    </tr>\n",
              "    <tr>\n",
              "      <th>42</th>\n",
              "      <td>0.966667</td>\n",
              "      <td>0.033333</td>\n",
              "      <td>{'n_neighbors': 22, 'weights': 'uniform'}</td>\n",
              "    </tr>\n",
              "    <tr>\n",
              "      <th>43</th>\n",
              "      <td>0.966667</td>\n",
              "      <td>0.044721</td>\n",
              "      <td>{'n_neighbors': 22, 'weights': 'distance'}</td>\n",
              "    </tr>\n",
              "    <tr>\n",
              "      <th>44</th>\n",
              "      <td>0.973333</td>\n",
              "      <td>0.032660</td>\n",
              "      <td>{'n_neighbors': 23, 'weights': 'uniform'}</td>\n",
              "    </tr>\n",
              "    <tr>\n",
              "      <th>45</th>\n",
              "      <td>0.973333</td>\n",
              "      <td>0.032660</td>\n",
              "      <td>{'n_neighbors': 23, 'weights': 'distance'}</td>\n",
              "    </tr>\n",
              "    <tr>\n",
              "      <th>46</th>\n",
              "      <td>0.960000</td>\n",
              "      <td>0.044222</td>\n",
              "      <td>{'n_neighbors': 24, 'weights': 'uniform'}</td>\n",
              "    </tr>\n",
              "    <tr>\n",
              "      <th>47</th>\n",
              "      <td>0.973333</td>\n",
              "      <td>0.032660</td>\n",
              "      <td>{'n_neighbors': 24, 'weights': 'distance'}</td>\n",
              "    </tr>\n",
              "    <tr>\n",
              "      <th>48</th>\n",
              "      <td>0.966667</td>\n",
              "      <td>0.033333</td>\n",
              "      <td>{'n_neighbors': 25, 'weights': 'uniform'}</td>\n",
              "    </tr>\n",
              "    <tr>\n",
              "      <th>49</th>\n",
              "      <td>0.973333</td>\n",
              "      <td>0.032660</td>\n",
              "      <td>{'n_neighbors': 25, 'weights': 'distance'}</td>\n",
              "    </tr>\n",
              "    <tr>\n",
              "      <th>50</th>\n",
              "      <td>0.960000</td>\n",
              "      <td>0.044222</td>\n",
              "      <td>{'n_neighbors': 26, 'weights': 'uniform'}</td>\n",
              "    </tr>\n",
              "    <tr>\n",
              "      <th>51</th>\n",
              "      <td>0.966667</td>\n",
              "      <td>0.044721</td>\n",
              "      <td>{'n_neighbors': 26, 'weights': 'distance'}</td>\n",
              "    </tr>\n",
              "    <tr>\n",
              "      <th>52</th>\n",
              "      <td>0.966667</td>\n",
              "      <td>0.044721</td>\n",
              "      <td>{'n_neighbors': 27, 'weights': 'uniform'}</td>\n",
              "    </tr>\n",
              "    <tr>\n",
              "      <th>53</th>\n",
              "      <td>0.980000</td>\n",
              "      <td>0.030551</td>\n",
              "      <td>{'n_neighbors': 27, 'weights': 'distance'}</td>\n",
              "    </tr>\n",
              "    <tr>\n",
              "      <th>54</th>\n",
              "      <td>0.953333</td>\n",
              "      <td>0.042687</td>\n",
              "      <td>{'n_neighbors': 28, 'weights': 'uniform'}</td>\n",
              "    </tr>\n",
              "    <tr>\n",
              "      <th>55</th>\n",
              "      <td>0.973333</td>\n",
              "      <td>0.032660</td>\n",
              "      <td>{'n_neighbors': 28, 'weights': 'distance'}</td>\n",
              "    </tr>\n",
              "    <tr>\n",
              "      <th>56</th>\n",
              "      <td>0.953333</td>\n",
              "      <td>0.042687</td>\n",
              "      <td>{'n_neighbors': 29, 'weights': 'uniform'}</td>\n",
              "    </tr>\n",
              "    <tr>\n",
              "      <th>57</th>\n",
              "      <td>0.973333</td>\n",
              "      <td>0.032660</td>\n",
              "      <td>{'n_neighbors': 29, 'weights': 'distance'}</td>\n",
              "    </tr>\n",
              "    <tr>\n",
              "      <th>58</th>\n",
              "      <td>0.953333</td>\n",
              "      <td>0.042687</td>\n",
              "      <td>{'n_neighbors': 30, 'weights': 'uniform'}</td>\n",
              "    </tr>\n",
              "    <tr>\n",
              "      <th>59</th>\n",
              "      <td>0.966667</td>\n",
              "      <td>0.033333</td>\n",
              "      <td>{'n_neighbors': 30, 'weights': 'distance'}</td>\n",
              "    </tr>\n",
              "  </tbody>\n",
              "</table>\n",
              "</div>"
            ],
            "text/plain": [
              "    mean_test_score  std_test_score                                      params\n",
              "0          0.960000        0.053333    {'n_neighbors': 1, 'weights': 'uniform'}\n",
              "1          0.960000        0.053333   {'n_neighbors': 1, 'weights': 'distance'}\n",
              "2          0.953333        0.052068    {'n_neighbors': 2, 'weights': 'uniform'}\n",
              "3          0.960000        0.053333   {'n_neighbors': 2, 'weights': 'distance'}\n",
              "4          0.966667        0.044721    {'n_neighbors': 3, 'weights': 'uniform'}\n",
              "5          0.966667        0.044721   {'n_neighbors': 3, 'weights': 'distance'}\n",
              "6          0.966667        0.044721    {'n_neighbors': 4, 'weights': 'uniform'}\n",
              "7          0.966667        0.044721   {'n_neighbors': 4, 'weights': 'distance'}\n",
              "8          0.966667        0.044721    {'n_neighbors': 5, 'weights': 'uniform'}\n",
              "9          0.966667        0.044721   {'n_neighbors': 5, 'weights': 'distance'}\n",
              "10         0.966667        0.044721    {'n_neighbors': 6, 'weights': 'uniform'}\n",
              "11         0.966667        0.044721   {'n_neighbors': 6, 'weights': 'distance'}\n",
              "12         0.966667        0.044721    {'n_neighbors': 7, 'weights': 'uniform'}\n",
              "13         0.966667        0.044721   {'n_neighbors': 7, 'weights': 'distance'}\n",
              "14         0.966667        0.044721    {'n_neighbors': 8, 'weights': 'uniform'}\n",
              "15         0.966667        0.044721   {'n_neighbors': 8, 'weights': 'distance'}\n",
              "16         0.973333        0.032660    {'n_neighbors': 9, 'weights': 'uniform'}\n",
              "17         0.973333        0.032660   {'n_neighbors': 9, 'weights': 'distance'}\n",
              "18         0.966667        0.044721   {'n_neighbors': 10, 'weights': 'uniform'}\n",
              "19         0.973333        0.032660  {'n_neighbors': 10, 'weights': 'distance'}\n",
              "20         0.966667        0.044721   {'n_neighbors': 11, 'weights': 'uniform'}\n",
              "21         0.973333        0.032660  {'n_neighbors': 11, 'weights': 'distance'}\n",
              "22         0.973333        0.032660   {'n_neighbors': 12, 'weights': 'uniform'}\n",
              "23         0.973333        0.044222  {'n_neighbors': 12, 'weights': 'distance'}\n",
              "24         0.980000        0.030551   {'n_neighbors': 13, 'weights': 'uniform'}\n",
              "25         0.973333        0.032660  {'n_neighbors': 13, 'weights': 'distance'}\n",
              "26         0.973333        0.044222   {'n_neighbors': 14, 'weights': 'uniform'}\n",
              "27         0.973333        0.032660  {'n_neighbors': 14, 'weights': 'distance'}\n",
              "28         0.973333        0.032660   {'n_neighbors': 15, 'weights': 'uniform'}\n",
              "29         0.980000        0.030551  {'n_neighbors': 15, 'weights': 'distance'}\n",
              "30         0.973333        0.032660   {'n_neighbors': 16, 'weights': 'uniform'}\n",
              "31         0.973333        0.032660  {'n_neighbors': 16, 'weights': 'distance'}\n",
              "32         0.973333        0.032660   {'n_neighbors': 17, 'weights': 'uniform'}\n",
              "33         0.980000        0.030551  {'n_neighbors': 17, 'weights': 'distance'}\n",
              "34         0.980000        0.030551   {'n_neighbors': 18, 'weights': 'uniform'}\n",
              "35         0.973333        0.032660  {'n_neighbors': 18, 'weights': 'distance'}\n",
              "36         0.973333        0.032660   {'n_neighbors': 19, 'weights': 'uniform'}\n",
              "37         0.980000        0.030551  {'n_neighbors': 19, 'weights': 'distance'}\n",
              "38         0.980000        0.030551   {'n_neighbors': 20, 'weights': 'uniform'}\n",
              "39         0.966667        0.044721  {'n_neighbors': 20, 'weights': 'distance'}\n",
              "40         0.966667        0.033333   {'n_neighbors': 21, 'weights': 'uniform'}\n",
              "41         0.966667        0.044721  {'n_neighbors': 21, 'weights': 'distance'}\n",
              "42         0.966667        0.033333   {'n_neighbors': 22, 'weights': 'uniform'}\n",
              "43         0.966667        0.044721  {'n_neighbors': 22, 'weights': 'distance'}\n",
              "44         0.973333        0.032660   {'n_neighbors': 23, 'weights': 'uniform'}\n",
              "45         0.973333        0.032660  {'n_neighbors': 23, 'weights': 'distance'}\n",
              "46         0.960000        0.044222   {'n_neighbors': 24, 'weights': 'uniform'}\n",
              "47         0.973333        0.032660  {'n_neighbors': 24, 'weights': 'distance'}\n",
              "48         0.966667        0.033333   {'n_neighbors': 25, 'weights': 'uniform'}\n",
              "49         0.973333        0.032660  {'n_neighbors': 25, 'weights': 'distance'}\n",
              "50         0.960000        0.044222   {'n_neighbors': 26, 'weights': 'uniform'}\n",
              "51         0.966667        0.044721  {'n_neighbors': 26, 'weights': 'distance'}\n",
              "52         0.966667        0.044721   {'n_neighbors': 27, 'weights': 'uniform'}\n",
              "53         0.980000        0.030551  {'n_neighbors': 27, 'weights': 'distance'}\n",
              "54         0.953333        0.042687   {'n_neighbors': 28, 'weights': 'uniform'}\n",
              "55         0.973333        0.032660  {'n_neighbors': 28, 'weights': 'distance'}\n",
              "56         0.953333        0.042687   {'n_neighbors': 29, 'weights': 'uniform'}\n",
              "57         0.973333        0.032660  {'n_neighbors': 29, 'weights': 'distance'}\n",
              "58         0.953333        0.042687   {'n_neighbors': 30, 'weights': 'uniform'}\n",
              "59         0.966667        0.033333  {'n_neighbors': 30, 'weights': 'distance'}"
            ]
          },
          "metadata": {},
          "execution_count": 25
        }
      ]
    },
    {
      "cell_type": "code",
      "metadata": {
        "colab": {
          "base_uri": "https://localhost:8080/"
        },
        "id": "P0KaaImHZe8Y",
        "outputId": "f2909529-37e6-49c7-de78-218a0db50e37"
      },
      "source": [
        "print(grid.best_score_)\n",
        "print(grid.best_params_)"
      ],
      "execution_count": null,
      "outputs": [
        {
          "output_type": "stream",
          "name": "stdout",
          "text": [
            "0.9800000000000001\n",
            "{'n_neighbors': 13, 'weights': 'uniform'}\n"
          ]
        }
      ]
    },
    {
      "cell_type": "markdown",
      "metadata": {
        "id": "efYec4n-aosb"
      },
      "source": [
        "##Q.4"
      ]
    },
    {
      "cell_type": "code",
      "metadata": {
        "id": "AOj0BESeZe-T"
      },
      "source": [
        "import pandas as pd\n",
        "import numpy as np\n",
        "import matplotlib.pyplot as plt\n",
        "import seaborn as sns\n",
        "import missingno as msno\n",
        "from sklearn.preprocessing import StandardScaler, MinMaxScaler"
      ],
      "execution_count": null,
      "outputs": []
    },
    {
      "cell_type": "code",
      "metadata": {
        "id": "_FTi-mWeZfAw"
      },
      "source": [
        "# Model Selection\n",
        "from sklearn.model_selection import train_test_split\n",
        "from sklearn.tree import DecisionTreeClassifier"
      ],
      "execution_count": null,
      "outputs": []
    },
    {
      "cell_type": "code",
      "metadata": {
        "colab": {
          "base_uri": "https://localhost:8080/",
          "height": 206
        },
        "id": "lcHE7NM-fQl_",
        "outputId": "c04d12f6-03e9-4afc-d473-7b16db61eb00"
      },
      "source": [
        "data = pd.read_csv(\"BankNote_Authentication.csv\")\n",
        "data.head()"
      ],
      "execution_count": null,
      "outputs": [
        {
          "output_type": "execute_result",
          "data": {
            "text/html": [
              "<div>\n",
              "<style scoped>\n",
              "    .dataframe tbody tr th:only-of-type {\n",
              "        vertical-align: middle;\n",
              "    }\n",
              "\n",
              "    .dataframe tbody tr th {\n",
              "        vertical-align: top;\n",
              "    }\n",
              "\n",
              "    .dataframe thead th {\n",
              "        text-align: right;\n",
              "    }\n",
              "</style>\n",
              "<table border=\"1\" class=\"dataframe\">\n",
              "  <thead>\n",
              "    <tr style=\"text-align: right;\">\n",
              "      <th></th>\n",
              "      <th>variance</th>\n",
              "      <th>skewness</th>\n",
              "      <th>curtosis</th>\n",
              "      <th>entropy</th>\n",
              "      <th>class</th>\n",
              "    </tr>\n",
              "  </thead>\n",
              "  <tbody>\n",
              "    <tr>\n",
              "      <th>0</th>\n",
              "      <td>3.62160</td>\n",
              "      <td>8.6661</td>\n",
              "      <td>-2.8073</td>\n",
              "      <td>-0.44699</td>\n",
              "      <td>0</td>\n",
              "    </tr>\n",
              "    <tr>\n",
              "      <th>1</th>\n",
              "      <td>4.54590</td>\n",
              "      <td>8.1674</td>\n",
              "      <td>-2.4586</td>\n",
              "      <td>-1.46210</td>\n",
              "      <td>0</td>\n",
              "    </tr>\n",
              "    <tr>\n",
              "      <th>2</th>\n",
              "      <td>3.86600</td>\n",
              "      <td>-2.6383</td>\n",
              "      <td>1.9242</td>\n",
              "      <td>0.10645</td>\n",
              "      <td>0</td>\n",
              "    </tr>\n",
              "    <tr>\n",
              "      <th>3</th>\n",
              "      <td>3.45660</td>\n",
              "      <td>9.5228</td>\n",
              "      <td>-4.0112</td>\n",
              "      <td>-3.59440</td>\n",
              "      <td>0</td>\n",
              "    </tr>\n",
              "    <tr>\n",
              "      <th>4</th>\n",
              "      <td>0.32924</td>\n",
              "      <td>-4.4552</td>\n",
              "      <td>4.5718</td>\n",
              "      <td>-0.98880</td>\n",
              "      <td>0</td>\n",
              "    </tr>\n",
              "  </tbody>\n",
              "</table>\n",
              "</div>"
            ],
            "text/plain": [
              "   variance  skewness  curtosis  entropy  class\n",
              "0   3.62160    8.6661   -2.8073 -0.44699      0\n",
              "1   4.54590    8.1674   -2.4586 -1.46210      0\n",
              "2   3.86600   -2.6383    1.9242  0.10645      0\n",
              "3   3.45660    9.5228   -4.0112 -3.59440      0\n",
              "4   0.32924   -4.4552    4.5718 -0.98880      0"
            ]
          },
          "metadata": {},
          "execution_count": 35
        }
      ]
    },
    {
      "cell_type": "code",
      "metadata": {
        "colab": {
          "base_uri": "https://localhost:8080/",
          "height": 223
        },
        "id": "VZYhZqu7fgzo",
        "outputId": "92fb0189-aaba-4ee9-eab7-56c763402fe1"
      },
      "source": [
        "def summary(data):\n",
        "    df = {\n",
        "     'Count' : data.shape[0],\n",
        "     'NA values' : data.isna().sum(),\n",
        "     '% NA' : round((data.isna().sum()/data.shape[0]) * 100, 2),\n",
        "     'Unique' : data.nunique(),\n",
        "     'Dtype' : data.dtypes,\n",
        "     'min' : round(data.min(),2),\n",
        "     '25%' : round(data.quantile(.25),2),\n",
        "     '50%' : round(data.quantile(.50),2),\n",
        "     'mean' : round(data.mean(),2),\n",
        "     '75%' : round(data.quantile(.75),2),   \n",
        "     'max' : round(data.max(),2)\n",
        "    } \n",
        "    return(pd.DataFrame(df))\n",
        "\n",
        "print('Shape is :', data.shape)\n",
        "summary(data)"
      ],
      "execution_count": null,
      "outputs": [
        {
          "output_type": "stream",
          "name": "stdout",
          "text": [
            "Shape is : (1372, 5)\n"
          ]
        },
        {
          "output_type": "execute_result",
          "data": {
            "text/html": [
              "<div>\n",
              "<style scoped>\n",
              "    .dataframe tbody tr th:only-of-type {\n",
              "        vertical-align: middle;\n",
              "    }\n",
              "\n",
              "    .dataframe tbody tr th {\n",
              "        vertical-align: top;\n",
              "    }\n",
              "\n",
              "    .dataframe thead th {\n",
              "        text-align: right;\n",
              "    }\n",
              "</style>\n",
              "<table border=\"1\" class=\"dataframe\">\n",
              "  <thead>\n",
              "    <tr style=\"text-align: right;\">\n",
              "      <th></th>\n",
              "      <th>Count</th>\n",
              "      <th>NA values</th>\n",
              "      <th>% NA</th>\n",
              "      <th>Unique</th>\n",
              "      <th>Dtype</th>\n",
              "      <th>min</th>\n",
              "      <th>25%</th>\n",
              "      <th>50%</th>\n",
              "      <th>mean</th>\n",
              "      <th>75%</th>\n",
              "      <th>max</th>\n",
              "    </tr>\n",
              "  </thead>\n",
              "  <tbody>\n",
              "    <tr>\n",
              "      <th>variance</th>\n",
              "      <td>1372</td>\n",
              "      <td>0</td>\n",
              "      <td>0.0</td>\n",
              "      <td>1338</td>\n",
              "      <td>float64</td>\n",
              "      <td>-7.04</td>\n",
              "      <td>-1.77</td>\n",
              "      <td>0.50</td>\n",
              "      <td>0.43</td>\n",
              "      <td>2.82</td>\n",
              "      <td>6.82</td>\n",
              "    </tr>\n",
              "    <tr>\n",
              "      <th>skewness</th>\n",
              "      <td>1372</td>\n",
              "      <td>0</td>\n",
              "      <td>0.0</td>\n",
              "      <td>1256</td>\n",
              "      <td>float64</td>\n",
              "      <td>-13.77</td>\n",
              "      <td>-1.71</td>\n",
              "      <td>2.32</td>\n",
              "      <td>1.92</td>\n",
              "      <td>6.81</td>\n",
              "      <td>12.95</td>\n",
              "    </tr>\n",
              "    <tr>\n",
              "      <th>curtosis</th>\n",
              "      <td>1372</td>\n",
              "      <td>0</td>\n",
              "      <td>0.0</td>\n",
              "      <td>1270</td>\n",
              "      <td>float64</td>\n",
              "      <td>-5.29</td>\n",
              "      <td>-1.57</td>\n",
              "      <td>0.62</td>\n",
              "      <td>1.40</td>\n",
              "      <td>3.18</td>\n",
              "      <td>17.93</td>\n",
              "    </tr>\n",
              "    <tr>\n",
              "      <th>entropy</th>\n",
              "      <td>1372</td>\n",
              "      <td>0</td>\n",
              "      <td>0.0</td>\n",
              "      <td>1156</td>\n",
              "      <td>float64</td>\n",
              "      <td>-8.55</td>\n",
              "      <td>-2.41</td>\n",
              "      <td>-0.59</td>\n",
              "      <td>-1.19</td>\n",
              "      <td>0.39</td>\n",
              "      <td>2.45</td>\n",
              "    </tr>\n",
              "    <tr>\n",
              "      <th>class</th>\n",
              "      <td>1372</td>\n",
              "      <td>0</td>\n",
              "      <td>0.0</td>\n",
              "      <td>2</td>\n",
              "      <td>int64</td>\n",
              "      <td>0.00</td>\n",
              "      <td>0.00</td>\n",
              "      <td>0.00</td>\n",
              "      <td>0.44</td>\n",
              "      <td>1.00</td>\n",
              "      <td>1.00</td>\n",
              "    </tr>\n",
              "  </tbody>\n",
              "</table>\n",
              "</div>"
            ],
            "text/plain": [
              "          Count  NA values  % NA  Unique  ...   50%  mean   75%    max\n",
              "variance   1372          0   0.0    1338  ...  0.50  0.43  2.82   6.82\n",
              "skewness   1372          0   0.0    1256  ...  2.32  1.92  6.81  12.95\n",
              "curtosis   1372          0   0.0    1270  ...  0.62  1.40  3.18  17.93\n",
              "entropy    1372          0   0.0    1156  ... -0.59 -1.19  0.39   2.45\n",
              "class      1372          0   0.0       2  ...  0.00  0.44  1.00   1.00\n",
              "\n",
              "[5 rows x 11 columns]"
            ]
          },
          "metadata": {},
          "execution_count": 36
        }
      ]
    },
    {
      "cell_type": "code",
      "metadata": {
        "colab": {
          "base_uri": "https://localhost:8080/",
          "height": 607
        },
        "id": "XLLzRMFPfpR-",
        "outputId": "9514d2ae-ac74-407e-cacd-b6e3eb13efd0"
      },
      "source": [
        "data.hist(figsize = (10,10))\n",
        "plt.show()"
      ],
      "execution_count": null,
      "outputs": [
        {
          "output_type": "display_data",
          "data": {
            "image/png": "[encoded data removed]",
            "text/plain": [
              "<Figure size 720x720 with 6 Axes>"
            ]
          },
          "metadata": {
            "needs_background": "light"
          }
        }
      ]
    },
    {
      "cell_type": "code",
      "metadata": {
        "colab": {
          "base_uri": "https://localhost:8080/",
          "height": 225
        },
        "id": "-2EngR02fsgO",
        "outputId": "c5a5c1a5-448e-44b0-a4bf-b2637f178b23"
      },
      "source": [
        "col_names = data.drop('class', axis = 1).columns.tolist()\n",
        "\n",
        "plt.figure(figsize = (10,3))\n",
        "i = 0\n",
        "for col in col_names:\n",
        "    plt.subplot(1,4,i+1)\n",
        "    plt.grid(True, alpha =0.5)\n",
        "    sns.kdeplot(data[col][data['class'] ==0], label = 'Fake note')\n",
        "    sns.kdeplot(data[col][data['class'] ==1], label = 'Original note')\n",
        "    plt.title('Class vs ' + col)\n",
        "    plt.tight_layout()\n",
        "    i+=1\n",
        "plt.show()"
      ],
      "execution_count": null,
      "outputs": [
        {
          "output_type": "display_data",
          "data": {
            "image/png": "[encoded data removed]",
            "text/plain": [
              "<Figure size 720x216 with 4 Axes>"
            ]
          },
          "metadata": {
            "needs_background": "light"
          }
        }
      ]
    },
    {
      "cell_type": "code",
      "metadata": {
        "id": "bmUvIkNtfwUG"
      },
      "source": [
        "#Split Dataset\n",
        "X = data.drop('class', axis = 1)\n",
        "y = data['class']\n",
        "\n",
        "x_train, x_test, y_train, y_test = train_test_split(X, Y, test_size = 0.3, random_state = 7)"
      ],
      "execution_count": null,
      "outputs": []
    },
    {
      "cell_type": "code",
      "metadata": {
        "id": "fcfP17GXf1W9"
      },
      "source": [
        "from sklearn.tree import DecisionTreeClassifier\n",
        "from sklearn.model_selection import cross_val_score"
      ],
      "execution_count": null,
      "outputs": []
    },
    {
      "cell_type": "code",
      "metadata": {
        "colab": {
          "base_uri": "https://localhost:8080/"
        },
        "id": "s8_OwARKf7w2",
        "outputId": "81663902-d07a-4200-dc71-5a5434372742"
      },
      "source": [
        "model11 = DecisionTreeClassifier(random_state=0,max_depth=5)\n",
        "score11 = cross_val_score(model11,X,y,cv=5)\n",
        "\n",
        "model12 = DecisionTreeClassifier(random_state=0,max_depth=8)\n",
        "score12 = cross_val_score(model12,X,y,cv=5)\n",
        "\n",
        "model13 = DecisionTreeClassifier(random_state=0,max_depth=10)\n",
        "score13 = cross_val_score(model13,X,y,cv=5)\n",
        "\n",
        "#Average scores after cross validation\n",
        "print('score11 : ',score11)\n",
        "print('avg score for max_depth=(5) is: ',np.average(score11))\n",
        "print(\"\")\n",
        "\n",
        "print('score12 : ',score12)\n",
        "print('avg score for max_depth=(8) is: ',np.average(score12))\n",
        "print(\"\")\n",
        "\n",
        "print('score13 : ',score13)\n",
        "print('avg score for max_depth=(10) is: ',np.average(score13))\n",
        "print(\"\")"
      ],
      "execution_count": null,
      "outputs": [
        {
          "output_type": "stream",
          "name": "stdout",
          "text": [
            "score11 :  [0.98181818 0.95272727 0.95985401 0.98540146 0.97445255]\n",
            "avg score for max_depth=(5) is:  0.970850696748507\n",
            "\n",
            "score12 :  [0.98909091 0.96727273 0.98175182 0.98540146 0.98540146]\n",
            "avg score for max_depth=(8) is:  0.9817836761778368\n",
            "\n",
            "score13 :  [0.98909091 0.96727273 0.98175182 0.98540146 0.98540146]\n",
            "avg score for max_depth=(10) is:  0.9817836761778368\n",
            "\n"
          ]
        }
      ]
    }
  ]
}