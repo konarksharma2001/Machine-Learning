{
  "nbformat": 4,
  "nbformat_minor": 0,
  "metadata": {
    "colab": {
      "name": "Naive_Bayes_Classifier.ipynb",
      "provenance": [],
      "authorship_tag": "ABX9TyMKNKQm75K92mjvhbNbvDYo",
      "include_colab_link": true
    },
    "kernelspec": {
      "name": "python3",
      "display_name": "Python 3"
    },
    "language_info": {
      "name": "python"
    }
  },
  "cells": [
    {
      "cell_type": "markdown",
      "metadata": {
        "id": "view-in-github",
        "colab_type": "text"
      },
      "source": [
        "<a href=\"https://colab.research.google.com/github/konarksharma2001/Machine-Learning/blob/main/Naive_Bayes_Classifier.ipynb\" target=\"_parent\"><img src=\"https://colab.research.google.com/assets/colab-badge.svg\" alt=\"Open In Colab\"/></a>"
      ]
    },
    {
      "cell_type": "code",
      "metadata": {
        "id": "g4tPGA8uQzve"
      },
      "source": [
        "import pandas as pd"
      ],
      "execution_count": 15,
      "outputs": []
    },
    {
      "cell_type": "code",
      "metadata": {
        "colab": {
          "base_uri": "https://localhost:8080/",
          "height": 206
        },
        "id": "J4mvnXlhRbLM",
        "outputId": "3d23d3c9-9596-440e-dd52-184e94eaf659"
      },
      "source": [
        "df = pd.read_csv('weather.csv')\n",
        "df.head()"
      ],
      "execution_count": 16,
      "outputs": [
        {
          "output_type": "execute_result",
          "data": {
            "text/html": [
              "<div>\n",
              "<style scoped>\n",
              "    .dataframe tbody tr th:only-of-type {\n",
              "        vertical-align: middle;\n",
              "    }\n",
              "\n",
              "    .dataframe tbody tr th {\n",
              "        vertical-align: top;\n",
              "    }\n",
              "\n",
              "    .dataframe thead th {\n",
              "        text-align: right;\n",
              "    }\n",
              "</style>\n",
              "<table border=\"1\" class=\"dataframe\">\n",
              "  <thead>\n",
              "    <tr style=\"text-align: right;\">\n",
              "      <th></th>\n",
              "      <th>Outlook</th>\n",
              "      <th>Temp</th>\n",
              "      <th>Humidity</th>\n",
              "      <th>Windy</th>\n",
              "      <th>Play</th>\n",
              "    </tr>\n",
              "  </thead>\n",
              "  <tbody>\n",
              "    <tr>\n",
              "      <th>0</th>\n",
              "      <td>rainy</td>\n",
              "      <td>hot</td>\n",
              "      <td>high</td>\n",
              "      <td>0</td>\n",
              "      <td>0</td>\n",
              "    </tr>\n",
              "    <tr>\n",
              "      <th>1</th>\n",
              "      <td>rainy</td>\n",
              "      <td>hot</td>\n",
              "      <td>high</td>\n",
              "      <td>1</td>\n",
              "      <td>0</td>\n",
              "    </tr>\n",
              "    <tr>\n",
              "      <th>2</th>\n",
              "      <td>overcast</td>\n",
              "      <td>hot</td>\n",
              "      <td>high</td>\n",
              "      <td>0</td>\n",
              "      <td>1</td>\n",
              "    </tr>\n",
              "    <tr>\n",
              "      <th>3</th>\n",
              "      <td>sunny</td>\n",
              "      <td>mild</td>\n",
              "      <td>high</td>\n",
              "      <td>0</td>\n",
              "      <td>1</td>\n",
              "    </tr>\n",
              "    <tr>\n",
              "      <th>4</th>\n",
              "      <td>sunny</td>\n",
              "      <td>cool</td>\n",
              "      <td>normal</td>\n",
              "      <td>0</td>\n",
              "      <td>1</td>\n",
              "    </tr>\n",
              "  </tbody>\n",
              "</table>\n",
              "</div>"
            ],
            "text/plain": [
              "    Outlook  Temp Humidity  Windy  Play\n",
              "0     rainy   hot     high      0     0\n",
              "1     rainy   hot     high      1     0\n",
              "2  overcast   hot     high      0     1\n",
              "3     sunny  mild     high      0     1\n",
              "4     sunny  cool   normal      0     1"
            ]
          },
          "metadata": {},
          "execution_count": 16
        }
      ]
    },
    {
      "cell_type": "markdown",
      "metadata": {
        "id": "JhHYe2asTwgV"
      },
      "source": [
        "##Preprocessing"
      ]
    },
    {
      "cell_type": "code",
      "metadata": {
        "colab": {
          "base_uri": "https://localhost:8080/",
          "height": 488
        },
        "id": "GVocnhGzRbjb",
        "outputId": "cd033049-539f-4cfc-d0ad-795935fcfdfa"
      },
      "source": [
        "X_train = df.iloc[:,0:4]\n",
        "X_train"
      ],
      "execution_count": 17,
      "outputs": [
        {
          "output_type": "execute_result",
          "data": {
            "text/html": [
              "<div>\n",
              "<style scoped>\n",
              "    .dataframe tbody tr th:only-of-type {\n",
              "        vertical-align: middle;\n",
              "    }\n",
              "\n",
              "    .dataframe tbody tr th {\n",
              "        vertical-align: top;\n",
              "    }\n",
              "\n",
              "    .dataframe thead th {\n",
              "        text-align: right;\n",
              "    }\n",
              "</style>\n",
              "<table border=\"1\" class=\"dataframe\">\n",
              "  <thead>\n",
              "    <tr style=\"text-align: right;\">\n",
              "      <th></th>\n",
              "      <th>Outlook</th>\n",
              "      <th>Temp</th>\n",
              "      <th>Humidity</th>\n",
              "      <th>Windy</th>\n",
              "    </tr>\n",
              "  </thead>\n",
              "  <tbody>\n",
              "    <tr>\n",
              "      <th>0</th>\n",
              "      <td>rainy</td>\n",
              "      <td>hot</td>\n",
              "      <td>high</td>\n",
              "      <td>0</td>\n",
              "    </tr>\n",
              "    <tr>\n",
              "      <th>1</th>\n",
              "      <td>rainy</td>\n",
              "      <td>hot</td>\n",
              "      <td>high</td>\n",
              "      <td>1</td>\n",
              "    </tr>\n",
              "    <tr>\n",
              "      <th>2</th>\n",
              "      <td>overcast</td>\n",
              "      <td>hot</td>\n",
              "      <td>high</td>\n",
              "      <td>0</td>\n",
              "    </tr>\n",
              "    <tr>\n",
              "      <th>3</th>\n",
              "      <td>sunny</td>\n",
              "      <td>mild</td>\n",
              "      <td>high</td>\n",
              "      <td>0</td>\n",
              "    </tr>\n",
              "    <tr>\n",
              "      <th>4</th>\n",
              "      <td>sunny</td>\n",
              "      <td>cool</td>\n",
              "      <td>normal</td>\n",
              "      <td>0</td>\n",
              "    </tr>\n",
              "    <tr>\n",
              "      <th>5</th>\n",
              "      <td>sunny</td>\n",
              "      <td>cool</td>\n",
              "      <td>normal</td>\n",
              "      <td>1</td>\n",
              "    </tr>\n",
              "    <tr>\n",
              "      <th>6</th>\n",
              "      <td>overcast</td>\n",
              "      <td>cool</td>\n",
              "      <td>normal</td>\n",
              "      <td>1</td>\n",
              "    </tr>\n",
              "    <tr>\n",
              "      <th>7</th>\n",
              "      <td>rainy</td>\n",
              "      <td>mild</td>\n",
              "      <td>high</td>\n",
              "      <td>0</td>\n",
              "    </tr>\n",
              "    <tr>\n",
              "      <th>8</th>\n",
              "      <td>rainy</td>\n",
              "      <td>cool</td>\n",
              "      <td>normal</td>\n",
              "      <td>0</td>\n",
              "    </tr>\n",
              "    <tr>\n",
              "      <th>9</th>\n",
              "      <td>sunny</td>\n",
              "      <td>mild</td>\n",
              "      <td>normal</td>\n",
              "      <td>0</td>\n",
              "    </tr>\n",
              "    <tr>\n",
              "      <th>10</th>\n",
              "      <td>rainy</td>\n",
              "      <td>mild</td>\n",
              "      <td>normal</td>\n",
              "      <td>1</td>\n",
              "    </tr>\n",
              "    <tr>\n",
              "      <th>11</th>\n",
              "      <td>overcast</td>\n",
              "      <td>mild</td>\n",
              "      <td>high</td>\n",
              "      <td>1</td>\n",
              "    </tr>\n",
              "    <tr>\n",
              "      <th>12</th>\n",
              "      <td>overcast</td>\n",
              "      <td>hot</td>\n",
              "      <td>normal</td>\n",
              "      <td>0</td>\n",
              "    </tr>\n",
              "    <tr>\n",
              "      <th>13</th>\n",
              "      <td>sunny</td>\n",
              "      <td>mild</td>\n",
              "      <td>high</td>\n",
              "      <td>1</td>\n",
              "    </tr>\n",
              "  </tbody>\n",
              "</table>\n",
              "</div>"
            ],
            "text/plain": [
              "     Outlook  Temp Humidity  Windy\n",
              "0      rainy   hot     high      0\n",
              "1      rainy   hot     high      1\n",
              "2   overcast   hot     high      0\n",
              "3      sunny  mild     high      0\n",
              "4      sunny  cool   normal      0\n",
              "5      sunny  cool   normal      1\n",
              "6   overcast  cool   normal      1\n",
              "7      rainy  mild     high      0\n",
              "8      rainy  cool   normal      0\n",
              "9      sunny  mild   normal      0\n",
              "10     rainy  mild   normal      1\n",
              "11  overcast  mild     high      1\n",
              "12  overcast   hot   normal      0\n",
              "13     sunny  mild     high      1"
            ]
          },
          "metadata": {},
          "execution_count": 17
        }
      ]
    },
    {
      "cell_type": "code",
      "metadata": {
        "colab": {
          "base_uri": "https://localhost:8080/"
        },
        "id": "aYKRmrXIRbns",
        "outputId": "65a42b73-90df-4003-94b4-e11be51a2360"
      },
      "source": [
        "y_train =  df.iloc[:,4]\n",
        "y_train"
      ],
      "execution_count": 18,
      "outputs": [
        {
          "output_type": "execute_result",
          "data": {
            "text/plain": [
              "0     0\n",
              "1     0\n",
              "2     1\n",
              "3     1\n",
              "4     1\n",
              "5     0\n",
              "6     1\n",
              "7     0\n",
              "8     1\n",
              "9     1\n",
              "10    1\n",
              "11    1\n",
              "12    1\n",
              "13    0\n",
              "Name: Play, dtype: int64"
            ]
          },
          "metadata": {},
          "execution_count": 18
        }
      ]
    },
    {
      "cell_type": "code",
      "metadata": {
        "colab": {
          "base_uri": "https://localhost:8080/",
          "height": 112
        },
        "id": "AEWOtZjERbvG",
        "outputId": "cd004b0b-59a7-4822-9614-6a691fef1c2f"
      },
      "source": [
        "df_test = pd.read_csv('weather_test.csv')\n",
        "df_test"
      ],
      "execution_count": 19,
      "outputs": [
        {
          "output_type": "execute_result",
          "data": {
            "text/html": [
              "<div>\n",
              "<style scoped>\n",
              "    .dataframe tbody tr th:only-of-type {\n",
              "        vertical-align: middle;\n",
              "    }\n",
              "\n",
              "    .dataframe tbody tr th {\n",
              "        vertical-align: top;\n",
              "    }\n",
              "\n",
              "    .dataframe thead th {\n",
              "        text-align: right;\n",
              "    }\n",
              "</style>\n",
              "<table border=\"1\" class=\"dataframe\">\n",
              "  <thead>\n",
              "    <tr style=\"text-align: right;\">\n",
              "      <th></th>\n",
              "      <th>Outlook</th>\n",
              "      <th>Temp</th>\n",
              "      <th>Humidity</th>\n",
              "      <th>Windy</th>\n",
              "      <th>Play</th>\n",
              "    </tr>\n",
              "  </thead>\n",
              "  <tbody>\n",
              "    <tr>\n",
              "      <th>0</th>\n",
              "      <td>rainy</td>\n",
              "      <td>cool</td>\n",
              "      <td>high</td>\n",
              "      <td>1</td>\n",
              "      <td>0</td>\n",
              "    </tr>\n",
              "    <tr>\n",
              "      <th>1</th>\n",
              "      <td>overcast</td>\n",
              "      <td>mild</td>\n",
              "      <td>normal</td>\n",
              "      <td>0</td>\n",
              "      <td>1</td>\n",
              "    </tr>\n",
              "  </tbody>\n",
              "</table>\n",
              "</div>"
            ],
            "text/plain": [
              "    Outlook  Temp Humidity  Windy  Play\n",
              "0     rainy  cool     high      1     0\n",
              "1  overcast  mild   normal      0     1"
            ]
          },
          "metadata": {},
          "execution_count": 19
        }
      ]
    },
    {
      "cell_type": "code",
      "metadata": {
        "colab": {
          "base_uri": "https://localhost:8080/",
          "height": 112
        },
        "id": "mwGtmVI4Syt_",
        "outputId": "50f101a4-17f6-412d-bcc6-30e510757a03"
      },
      "source": [
        "X_test = df_test.iloc[:,0:4]\n",
        "X_test"
      ],
      "execution_count": 20,
      "outputs": [
        {
          "output_type": "execute_result",
          "data": {
            "text/html": [
              "<div>\n",
              "<style scoped>\n",
              "    .dataframe tbody tr th:only-of-type {\n",
              "        vertical-align: middle;\n",
              "    }\n",
              "\n",
              "    .dataframe tbody tr th {\n",
              "        vertical-align: top;\n",
              "    }\n",
              "\n",
              "    .dataframe thead th {\n",
              "        text-align: right;\n",
              "    }\n",
              "</style>\n",
              "<table border=\"1\" class=\"dataframe\">\n",
              "  <thead>\n",
              "    <tr style=\"text-align: right;\">\n",
              "      <th></th>\n",
              "      <th>Outlook</th>\n",
              "      <th>Temp</th>\n",
              "      <th>Humidity</th>\n",
              "      <th>Windy</th>\n",
              "    </tr>\n",
              "  </thead>\n",
              "  <tbody>\n",
              "    <tr>\n",
              "      <th>0</th>\n",
              "      <td>rainy</td>\n",
              "      <td>cool</td>\n",
              "      <td>high</td>\n",
              "      <td>1</td>\n",
              "    </tr>\n",
              "    <tr>\n",
              "      <th>1</th>\n",
              "      <td>overcast</td>\n",
              "      <td>mild</td>\n",
              "      <td>normal</td>\n",
              "      <td>0</td>\n",
              "    </tr>\n",
              "  </tbody>\n",
              "</table>\n",
              "</div>"
            ],
            "text/plain": [
              "    Outlook  Temp Humidity  Windy\n",
              "0     rainy  cool     high      1\n",
              "1  overcast  mild   normal      0"
            ]
          },
          "metadata": {},
          "execution_count": 20
        }
      ]
    },
    {
      "cell_type": "code",
      "metadata": {
        "colab": {
          "base_uri": "https://localhost:8080/"
        },
        "id": "KBDhy2xiSywf",
        "outputId": "0dafbc5c-6bb0-4a20-9bb7-f034211746bd"
      },
      "source": [
        "y_test = df_test.iloc[:,4]\n",
        "y_test"
      ],
      "execution_count": 21,
      "outputs": [
        {
          "output_type": "execute_result",
          "data": {
            "text/plain": [
              "0    0\n",
              "1    1\n",
              "Name: Play, dtype: int64"
            ]
          },
          "metadata": {},
          "execution_count": 21
        }
      ]
    },
    {
      "cell_type": "markdown",
      "metadata": {
        "id": "lOFy_RChTzng"
      },
      "source": [
        "###Prior Probability"
      ]
    },
    {
      "cell_type": "code",
      "metadata": {
        "id": "pvrzXFxbSyzM",
        "colab": {
          "base_uri": "https://localhost:8080/"
        },
        "outputId": "7ad9e402-7768-4176-8372-0c9121394378"
      },
      "source": [
        "import numpy as np\n",
        "train_size=X_train.shape[0]\n",
        "class_priors={}\n",
        "for outcome in np.unique(y_train):\n",
        "    outcome_count = sum(y_train == outcome)    \n",
        "    class_priors[outcome] = outcome_count / train_size\n",
        "print(class_priors)"
      ],
      "execution_count": 13,
      "outputs": [
        {
          "output_type": "stream",
          "name": "stdout",
          "text": [
            "{0: 0.35714285714285715, 1: 0.6428571428571429}\n"
          ]
        }
      ]
    },
    {
      "cell_type": "code",
      "metadata": {
        "id": "RP21gnsuSy0t"
      },
      "source": [
        "features=list(X_train.columns)\n",
        "likelihoods={}\n",
        "for outcome in np.unique(y_train):\n",
        "    outcome_count = sum(y_train == outcome)\n",
        "    for feature in features:\n",
        "        for feat_value in np.unique(X_train[feature]):\n",
        "            count=0\n",
        "            for i in range(len(X_train)):\n",
        "                if(X_train[feature][i]==feat_value and y_train[i]==outcome):\n",
        "                    count=count+1\n",
        "            likelihoods[(feature,feat_value,outcome)]=(count+1)/(outcome_count+(len(features)))"
      ],
      "execution_count": 14,
      "outputs": []
    },
    {
      "cell_type": "code",
      "metadata": {
        "id": "OajdR2i5Sy7g",
        "colab": {
          "base_uri": "https://localhost:8080/"
        },
        "outputId": "b8cc3ae4-46ab-4e6f-d9e9-759086ddcd69"
      },
      "source": [
        "likelihoods"
      ],
      "execution_count": 22,
      "outputs": [
        {
          "output_type": "execute_result",
          "data": {
            "text/plain": [
              "{('Humidity', 'high', 0): 0.5555555555555556,\n",
              " ('Humidity', 'high', 1): 0.3076923076923077,\n",
              " ('Humidity', 'normal', 0): 0.2222222222222222,\n",
              " ('Humidity', 'normal', 1): 0.5384615384615384,\n",
              " ('Outlook', 'overcast', 0): 0.1111111111111111,\n",
              " ('Outlook', 'overcast', 1): 0.38461538461538464,\n",
              " ('Outlook', 'rainy', 0): 0.4444444444444444,\n",
              " ('Outlook', 'rainy', 1): 0.23076923076923078,\n",
              " ('Outlook', 'sunny', 0): 0.3333333333333333,\n",
              " ('Outlook', 'sunny', 1): 0.3076923076923077,\n",
              " ('Temp', 'cool', 0): 0.2222222222222222,\n",
              " ('Temp', 'cool', 1): 0.3076923076923077,\n",
              " ('Temp', 'hot', 0): 0.3333333333333333,\n",
              " ('Temp', 'hot', 1): 0.23076923076923078,\n",
              " ('Temp', 'mild', 0): 0.3333333333333333,\n",
              " ('Temp', 'mild', 1): 0.38461538461538464,\n",
              " ('Windy', 0, 0): 0.3333333333333333,\n",
              " ('Windy', 0, 1): 0.5384615384615384,\n",
              " ('Windy', 1, 0): 0.4444444444444444,\n",
              " ('Windy', 1, 1): 0.3076923076923077}"
            ]
          },
          "metadata": {},
          "execution_count": 22
        }
      ]
    },
    {
      "cell_type": "markdown",
      "metadata": {
        "id": "MnFRb7kVWnaL"
      },
      "source": [
        "##Prediction for Test Dataset"
      ]
    },
    {
      "cell_type": "code",
      "metadata": {
        "id": "hUKJdl-TSy-J",
        "colab": {
          "base_uri": "https://localhost:8080/"
        },
        "outputId": "98911419-02ca-43a0-abc0-d8f490df947b"
      },
      "source": [
        "a = len(np.unique(y_train))\n",
        "a"
      ],
      "execution_count": 23,
      "outputs": [
        {
          "output_type": "execute_result",
          "data": {
            "text/plain": [
              "2"
            ]
          },
          "metadata": {},
          "execution_count": 23
        }
      ]
    },
    {
      "cell_type": "code",
      "metadata": {
        "id": "EcgIGwcqSy_7",
        "colab": {
          "base_uri": "https://localhost:8080/"
        },
        "outputId": "658b8154-c3a3-44ff-f61e-3de40e3731b7"
      },
      "source": [
        "prob=np.ones((a,len(X_test)),dtype=np.float)\n",
        "prob"
      ],
      "execution_count": 24,
      "outputs": [
        {
          "output_type": "execute_result",
          "data": {
            "text/plain": [
              "array([[1., 1.],\n",
              "       [1., 1.]])"
            ]
          },
          "metadata": {},
          "execution_count": 24
        }
      ]
    },
    {
      "cell_type": "code",
      "metadata": {
        "id": "SnKfKIm2SzCS"
      },
      "source": [
        "for outcome in(np.unique(y_train)):\n",
        "    outcome_count = sum(y_train == outcome)\n",
        "    for feature in features:\n",
        "        for i in range(len(X_test)):\n",
        "            if  (feature,X_test[feature][i],outcome) in likelihoods.keys():\n",
        "                prob[outcome][i]=prob[outcome][i]*likelihoods[(feature,X_test[feature][i],outcome)]\n",
        "            else:\n",
        "                prob[outcome][i]=prob[outcome][i]*(1/(outcome_count+len(features)))"
      ],
      "execution_count": 25,
      "outputs": []
    },
    {
      "cell_type": "markdown",
      "metadata": {
        "id": "C97vufuHW11e"
      },
      "source": [
        "###Multiplying probabilities with class prior probabilities"
      ]
    },
    {
      "cell_type": "code",
      "metadata": {
        "id": "iFypJQyJSzHC"
      },
      "source": [
        "for i in range(prob.shape[0]):\n",
        "    prob[i][:]=prob[i][:]*class_priors[i]"
      ],
      "execution_count": 26,
      "outputs": []
    },
    {
      "cell_type": "code",
      "metadata": {
        "id": "206Kqn_KSzKU"
      },
      "source": [
        "#Predict the labels\n",
        "\n",
        "Y_label=np.zeros(len(y_test))\n",
        "for i in range(len(X_test)):\n",
        "    if (prob[1,i]>=prob[0,i]):\n",
        "        Y_label[i]=1"
      ],
      "execution_count": 27,
      "outputs": []
    },
    {
      "cell_type": "code",
      "metadata": {
        "colab": {
          "base_uri": "https://localhost:8080/"
        },
        "id": "ndm3JOYBW8pC",
        "outputId": "686f1bb0-3a86-4daf-fd52-773b0fe6ed15"
      },
      "source": [
        "#Performance Evaluation\n",
        "\n",
        "from sklearn import metrics\n",
        "print(metrics.classification_report(y_test,Y_label))\n",
        "print(metrics.confusion_matrix(y_test,Y_label))"
      ],
      "execution_count": 28,
      "outputs": [
        {
          "output_type": "stream",
          "name": "stdout",
          "text": [
            "              precision    recall  f1-score   support\n",
            "\n",
            "           0       1.00      1.00      1.00         1\n",
            "           1       1.00      1.00      1.00         1\n",
            "\n",
            "    accuracy                           1.00         2\n",
            "   macro avg       1.00      1.00      1.00         2\n",
            "weighted avg       1.00      1.00      1.00         2\n",
            "\n",
            "[[1 0]\n",
            " [0 1]]\n"
          ]
        }
      ]
    }
  ]
}