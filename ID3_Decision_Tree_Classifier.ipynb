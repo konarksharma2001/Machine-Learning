{
  "nbformat": 4,
  "nbformat_minor": 0,
  "metadata": {
    "colab": {
      "name": "ID3_Decision_Tree_Classifier.ipynb",
      "provenance": [],
      "authorship_tag": "ABX9TyNl7+mVP+7x2XsF3X+/rU/t",
      "include_colab_link": true
    },
    "kernelspec": {
      "name": "python3",
      "display_name": "Python 3"
    },
    "language_info": {
      "name": "python"
    }
  },
  "cells": [
    {
      "cell_type": "markdown",
      "metadata": {
        "id": "view-in-github",
        "colab_type": "text"
      },
      "source": [
        "<a href=\"https://colab.research.google.com/github/konarksharma2001/Machine-Learning/blob/main/ID3_Decision_Tree_Classifier.ipynb\" target=\"_parent\"><img src=\"https://colab.research.google.com/assets/colab-badge.svg\" alt=\"Open In Colab\"/></a>"
      ]
    },
    {
      "cell_type": "markdown",
      "metadata": {
        "id": "F25anvIlO3IU"
      },
      "source": [
        "###Implementation of ID3 Decision Tree Classifier:\n",
        "\n",
        "Entropy of a Set\n",
        "\n",
        "Average Information Entropy of attribute given a set\n",
        "\n",
        "Information Gain (IG) of each attribute and attribute with max IG."
      ]
    },
    {
      "cell_type": "code",
      "metadata": {
        "id": "Nwuikk2ZO8f6"
      },
      "source": [
        "# Find Entropy Function\n",
        "\n",
        "import numpy as np\n",
        "def find_entropy(df):\n",
        "  Class = df.keys()[-1]\n",
        "  values = df[Class].unique()\n",
        "  entropy = 0\n",
        "  for value in values:\n",
        "    prob = df[Class].value_counts()[value]/len(df[Class])\n",
        "    entropy += -prob * np.log2(prob)\n",
        "  return np.float(entropy)"
      ],
      "execution_count": 1,
      "outputs": []
    },
    {
      "cell_type": "code",
      "metadata": {
        "id": "-Gr40ODkO8i5"
      },
      "source": [
        "# Find entropy attribute\n",
        "def find_entropy_attribute(df, attribute):\n",
        "  Class = df.keys()[-1]\n",
        "  target_values = df[Class].unique()\n",
        "  attribute_values = df[attribute].unique()\n",
        "  avg_entropy = 0\n",
        "  for value in attribute_values:\n",
        "    entropy = 0\n",
        "    for value1 in target_values:\n",
        "      num = len(df[attribute][df[attribute] == value][df[Class] == value1])\n",
        "      den = len(df[attribute][df[attribute] == value])\n",
        "      prob = num/den\n",
        "      entropy += -prob * np.log2(prob + 0.000001)\n",
        "    avg_entropy += (den/len(df))*entropy\n",
        "  return np.float(avg_entropy)"
      ],
      "execution_count": 2,
      "outputs": []
    },
    {
      "cell_type": "code",
      "metadata": {
        "id": "L24PNXXGO_Fn"
      },
      "source": [
        "# Find Winner\n",
        "def find_winner(df):\n",
        "  IG = []\n",
        "  for key in df.keys()[:-1]:\n",
        "    IG.append(find_entropy(df) - find_entropy_attribute(df, key))\n",
        "  return df.keys()[:-1][np.argmax(IG)]"
      ],
      "execution_count": 3,
      "outputs": []
    },
    {
      "cell_type": "code",
      "metadata": {
        "id": "fP-WvnE0PEKO"
      },
      "source": [
        "def get_subtable(df, attribute, value):\n",
        "  return df[df[attribute] == value].reset_index(drop = True)"
      ],
      "execution_count": 4,
      "outputs": []
    },
    {
      "cell_type": "code",
      "metadata": {
        "id": "tQURUQ6JPERs"
      },
      "source": [
        "def buildtree(df, tree = None):\n",
        "  node = find_winner(df)\n",
        "  attvalue = np.unique(df[node])\n",
        "  Class = df.keys()[-1]\n",
        "  if tree is None:\n",
        "    tree = {}\n",
        "    tree[node] = {}\n",
        "  for value in attvalue:\n",
        "    subtable = get_subtable(df,node,value)\n",
        "    Clvalue, counts = np.unique(subtable[Class], return_counts = True)\n",
        "    if len(counts) == 1:\n",
        "      tree[node][value] = Clvalue[0]\n",
        "    else:\n",
        "      tree[node][value] = buildtree(subtable)\n",
        "  return tree"
      ],
      "execution_count": 5,
      "outputs": []
    },
    {
      "cell_type": "code",
      "metadata": {
        "id": "ilvHhqAjPEUL"
      },
      "source": [
        "import pandas as pd\n",
        "df = pd.read_csv('weather.csv')"
      ],
      "execution_count": 6,
      "outputs": []
    },
    {
      "cell_type": "code",
      "metadata": {
        "id": "Bv_zup6oPEWf"
      },
      "source": [
        "tree = buildtree(df)"
      ],
      "execution_count": 7,
      "outputs": []
    },
    {
      "cell_type": "code",
      "metadata": {
        "colab": {
          "base_uri": "https://localhost:8080/"
        },
        "id": "8yII2o4WO_IX",
        "outputId": "7b546719-d0d5-4652-a261-b94b112e9a65"
      },
      "source": [
        "import pprint\n",
        "pprint.pprint(tree)"
      ],
      "execution_count": 8,
      "outputs": [
        {
          "output_type": "stream",
          "name": "stdout",
          "text": [
            "{'Outlook': {'overcast': 1,\n",
            "             'rainy': {'Humidity': {'high': 0, 'normal': 1}},\n",
            "             'sunny': {'Windy': {0: 1, 1: 0}}}}\n"
          ]
        }
      ]
    },
    {
      "cell_type": "code",
      "metadata": {
        "id": "U4ntOCmjO8lW"
      },
      "source": [
        "def predict(inst, tree):\n",
        "  for node in tree.keys():\n",
        "    value = inst[node]\n",
        "    tree = tree[node][value]\n",
        "    prediction = 0\n",
        "    if type(tree) is dict:\n",
        "      prediction = predict(inst, tree)\n",
        "    else:\n",
        "      prediction = tree\n",
        "  return prediction"
      ],
      "execution_count": 9,
      "outputs": []
    },
    {
      "cell_type": "code",
      "metadata": {
        "id": "txyEL0ZMO8no"
      },
      "source": [
        "df1 = pd.read_csv('weather_test.csv')"
      ],
      "execution_count": 10,
      "outputs": []
    },
    {
      "cell_type": "code",
      "metadata": {
        "colab": {
          "base_uri": "https://localhost:8080/"
        },
        "id": "Hg92OQNSPOoE",
        "outputId": "5645aa6b-4c32-4215-c0c1-f282ac0d24c0"
      },
      "source": [
        "Y_label = []\n",
        "for i in range(len(df1)):\n",
        "  inst = df1.iloc[i,:]\n",
        "  prediction = predict(inst, tree)\n",
        "  Y_label.append(prediction)\n",
        "print(Y_label)"
      ],
      "execution_count": 11,
      "outputs": [
        {
          "output_type": "stream",
          "name": "stdout",
          "text": [
            "[0, 1]\n"
          ]
        }
      ]
    },
    {
      "cell_type": "code",
      "metadata": {
        "colab": {
          "base_uri": "https://localhost:8080/"
        },
        "id": "-7RqM8YfPOr1",
        "outputId": "8944045e-39f6-462f-85fb-078e009c8d1e"
      },
      "source": [
        "from sklearn import metrics\n",
        "print(metrics.classification_report(df1.iloc[:,-1], Y_label))"
      ],
      "execution_count": 12,
      "outputs": [
        {
          "output_type": "stream",
          "name": "stdout",
          "text": [
            "              precision    recall  f1-score   support\n",
            "\n",
            "           0       1.00      1.00      1.00         1\n",
            "           1       1.00      1.00      1.00         1\n",
            "\n",
            "    accuracy                           1.00         2\n",
            "   macro avg       1.00      1.00      1.00         2\n",
            "weighted avg       1.00      1.00      1.00         2\n",
            "\n"
          ]
        }
      ]
    }
  ]
}