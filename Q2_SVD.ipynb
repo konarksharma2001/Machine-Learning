{
  "nbformat": 4,
  "nbformat_minor": 0,
  "metadata": {
    "kernelspec": {
      "display_name": "Python 3",
      "language": "python",
      "name": "python3"
    },
    "language_info": {
      "codemirror_mode": {
        "name": "ipython",
        "version": 3
      },
      "file_extension": ".py",
      "mimetype": "text/x-python",
      "name": "python",
      "nbconvert_exporter": "python",
      "pygments_lexer": "ipython3",
      "version": "3.7.6"
    },
    "colab": {
      "name": "Q2_SVD.ipynb",
      "provenance": [],
      "collapsed_sections": [],
      "include_colab_link": true
    }
  },
  "cells": [
    {
      "cell_type": "markdown",
      "metadata": {
        "id": "view-in-github",
        "colab_type": "text"
      },
      "source": [
        "<a href=\"https://colab.research.google.com/github/konarksharma2001/pthon/blob/main/Q2_SVD.ipynb\" target=\"_parent\"><img src=\"https://colab.research.google.com/assets/colab-badge.svg\" alt=\"Open In Colab\"/></a>"
      ]
    },
    {
      "cell_type": "markdown",
      "metadata": {
        "id": "SNbNWiC6H6ec"
      },
      "source": [
        "####Q2: Download the IMDB dataset of movie reviews from the following link\n",
        "https://www.kaggle.com/lakshmi25npathi/imdb-dataset-of-50k-movie-reviews\n",
        "IMDB dataset having 50K movie reviews for natural language processing or Text analytics.\n",
        "This is a dataset for binary sentiment classification containing substantially more data than previous benchmark\n",
        "datasets.\n",
        "(a) Load the dataset in a dataframe.\n",
        "(b) Drop the sentiment column and consider the first 1000 reviews.\n",
        "(c) Make the corpus of first 1000 reviews.\n",
        "(d) Convert the corpus into binary BOW vector of size mXn, where m=1000 (number of reviews\n",
        "documents) and n is the number of unique terms obtained from the 1000 documents. Each ij th entry\n",
        "of the vector is a binary value which is 1 if the jth term is present in ith review else 0.\n",
        "(e) Compute the co-occurrence matrix of order nXn where each ij th entry of matrix is number of\n",
        "documents in which both i and j th terms co-occur. (Use binary co-occurrence vector to compute\n",
        "it).\n",
        "(f) Using Truncated SVD method of python find the reduced matrix of co-occurrence matrix with\n",
        "number of coomponents as 100.\n",
        "(g) The reduced matrix of order nX100 are word embeddings of n words of dimensionality 100.\n",
        "Explore more about word embeddings to learn more about it"
      ]
    },
    {
      "cell_type": "code",
      "metadata": {
        "id": "XKL4FrRUGztu",
        "outputId": "365268f3-903a-45e3-bc9a-88927eac24ee"
      },
      "source": [
        "import pandas as pd\n",
        "df=pd.read_csv('C:/Users/jasme/Desktop/IMDB_Dataset.csv')\n",
        "print(df)"
      ],
      "execution_count": null,
      "outputs": [
        {
          "name": "stdout",
          "output_type": "stream",
          "text": [
            "                                                  review sentiment\n",
            "0      One of the other reviewers has mentioned that ...  positive\n",
            "1      A wonderful little production. <br /><br />The...  positive\n",
            "2      I thought this was a wonderful way to spend ti...  positive\n",
            "3      Basically there's a family where a little boy ...  negative\n",
            "4      Petter Mattei's \"Love in the Time of Money\" is...  positive\n",
            "...                                                  ...       ...\n",
            "49995  I thought this movie did a down right good job...  positive\n",
            "49996  Bad plot, bad dialogue, bad acting, idiotic di...  negative\n",
            "49997  I am a Catholic taught in parochial elementary...  negative\n",
            "49998  I'm going to have to disagree with the previou...  negative\n",
            "49999  No one expects the Star Trek movies to be high...  negative\n",
            "\n",
            "[50000 rows x 2 columns]\n"
          ]
        }
      ]
    },
    {
      "cell_type": "code",
      "metadata": {
        "id": "jmsHQ4QiGztw"
      },
      "source": [
        "corpus=list(df['review'][:1000])"
      ],
      "execution_count": null,
      "outputs": []
    },
    {
      "cell_type": "code",
      "metadata": {
        "id": "2xw52ldBGztx",
        "outputId": "76027e7a-85f5-4678-893c-9ed1f64bf623"
      },
      "source": [
        "print(corpus[:1])"
      ],
      "execution_count": null,
      "outputs": [
        {
          "name": "stdout",
          "output_type": "stream",
          "text": [
            "[\"One of the other reviewers has mentioned that after watching just 1 Oz episode you'll be hooked. They are right, as this is exactly what happened with me.<br /><br />The first thing that struck me about Oz was its brutality and unflinching scenes of violence, which set in right from the word GO. Trust me, this is not a show for the faint hearted or timid. This show pulls no punches with regards to drugs, sex or violence. Its is hardcore, in the classic use of the word.<br /><br />It is called OZ as that is the nickname given to the Oswald Maximum Security State Penitentary. It focuses mainly on Emerald City, an experimental section of the prison where all the cells have glass fronts and face inwards, so privacy is not high on the agenda. Em City is home to many..Aryans, Muslims, gangstas, Latinos, Christians, Italians, Irish and more....so scuffles, death stares, dodgy dealings and shady agreements are never far away.<br /><br />I would say the main appeal of the show is due to the fact that it goes where other shows wouldn't dare. Forget pretty pictures painted for mainstream audiences, forget charm, forget romance...OZ doesn't mess around. The first episode I ever saw struck me as so nasty it was surreal, I couldn't say I was ready for it, but as I watched more, I developed a taste for Oz, and got accustomed to the high levels of graphic violence. Not just violence, but injustice (crooked guards who'll be sold out for a nickel, inmates who'll kill on order and get away with it, well mannered, middle class inmates being turned into prison bitches due to their lack of street skills or prison experience) Watching Oz, you may become comfortable with what is uncomfortable viewing....thats if you can get in touch with your darker side.\"]\n"
          ]
        }
      ]
    },
    {
      "cell_type": "code",
      "metadata": {
        "id": "Kr3JUhUDGzty",
        "outputId": "ec99054e-d35e-43d3-a5fd-54b9c3c25367"
      },
      "source": [
        "from sklearn.feature_extraction.text import CountVectorizer\n",
        "vectorizer = CountVectorizer(binary=True)\n",
        "X = vectorizer.fit_transform(corpus)\n",
        "print(X.shape)"
      ],
      "execution_count": null,
      "outputs": [
        {
          "name": "stdout",
          "output_type": "stream",
          "text": [
            "(1000, 17922)\n"
          ]
        }
      ]
    },
    {
      "cell_type": "code",
      "metadata": {
        "id": "WSGxJ0ALGzt0",
        "outputId": "ffddaf76-f577-4e17-da96-baae37c1e922"
      },
      "source": [
        "import numpy as np\n",
        "\n",
        "cooccurence_matrix=np.multiply(X.T,X)\n",
        "cooccurence_matrix.setdiag(0)\n",
        "print(cooccurence_matrix.shape)"
      ],
      "execution_count": null,
      "outputs": [
        {
          "name": "stdout",
          "output_type": "stream",
          "text": [
            "(17922, 17922)\n"
          ]
        }
      ]
    },
    {
      "cell_type": "code",
      "metadata": {
        "id": "lioGd5CRGzt0",
        "outputId": "f4eb5333-e9e1-4247-9938-90f008d9968f"
      },
      "source": [
        "from sklearn.decomposition import TruncatedSVD\n",
        "svd = TruncatedSVD(n_components=100)\n",
        "print(svd.fit_transform(cooccurence_matrix))"
      ],
      "execution_count": null,
      "outputs": [
        {
          "name": "stdout",
          "output_type": "stream",
          "text": [
            "[[ 2.54976927e+01  2.65118087e+00  7.59290524e-02 ...  1.07369021e+00\n",
            "  -3.13337885e-01 -1.64820505e+00]\n",
            " [ 7.28511987e+01 -1.43250923e+01 -2.15968306e-01 ... -4.17117536e+00\n",
            "   1.68480326e+00  2.48464848e-01]\n",
            " [ 7.63450166e+00 -5.38052366e-01  2.06827067e-02 ... -3.97015643e-01\n",
            "  -3.98532346e-01 -4.81748072e-01]\n",
            " ...\n",
            " [ 4.75646139e+00  1.33778394e+00  4.79267731e-02 ... -1.40933934e-01\n",
            "  -2.01459605e-01  1.28125585e-01]\n",
            " [ 7.80357386e+00 -1.96821319e+00  1.00098571e-02 ...  1.01844553e+00\n",
            "  -1.28729182e+00 -1.49428496e+00]\n",
            " [ 3.98137395e+00  1.50996566e+00  1.72167896e-02 ... -4.84523404e-01\n",
            "  -1.88373217e-01 -6.85168155e-02]]\n"
          ]
        }
      ]
    }
  ]
}